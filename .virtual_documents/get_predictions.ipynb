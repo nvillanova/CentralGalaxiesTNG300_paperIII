





from NF import NF
from NNgauss import NNgauss
#from NNclass import NNclass

import pandas as pd
import matplotlib.pyplot as plt

import warnings








dataset = pd.read_csv('data/subtest_tng300.csv')


dataset.head()





# Properties
target_props = ['smass', 'color', 'sSFR', 'radius']
input_props = ['M_h', 'C_h', 'S_h', 'z_h', 'Delta3_h']

input_data = dataset[input_props].to_numpy()





nngauss = NNgauss(target_props, trial=45)
nf = NF(target_props, trial=99)
#nnclass = NNclass(target_props, trial=77)





nngauss_pred = nngauss.get_sample(input_data, n_samples=10)


nf_pred = nf.get_sample(input_data, n_samples=10)


#nnclass_pred = nnclass.get_sample(input_data, 5, 2)


nf_pred.shape, nngauss_pred.shape





fig, axs = plt.subplots(2, 2, figsize=(10, 10), dpi=100)

# Stellar Mass
nf_smass = nf_pred[0, :, 0]
nngauss_smass = nngauss_pred[0, :, 0]

axs[0, 0].set_title('Stellar Mass')
axs[0, 0].plot(dataset['smass'], dataset['smass'], color='black', ls='--')
axs[0, 0].scatter(nngauss_smass, dataset['smass'], color=nngauss.color, label=nngauss.label, marker=nngauss.marker, alpha=0.5)
axs[0, 0].scatter(nf_smass, dataset['smass'], color=nf.color, label=nf.label, marker=nf.marker, alpha=0.5)
axs[0, 0].legend()
axs[0, 0].set_ylabel('Predicted')
axs[0, 0].set_xlabel('True')

# Color
nf_color = nf_pred[0, :, 1]
nngauss_color = nngauss_pred[0, :, 1]

axs[0, 1].set_title('Color')
axs[0, 1].plot(dataset['color'], dataset['color'], color='black', ls='--')
axs[0, 1].scatter(nngauss_color, dataset['color'], color=nngauss.color, label=nngauss.label, marker=nngauss.marker, alpha=0.5)
axs[0, 1].scatter(nf_color, dataset['color'], color=nf.color, label=nf.label, marker=nf.marker, alpha=0.5)
axs[0, 1].set_ylabel('Predicted')
axs[0, 1].set_xlabel('True')

# sSFR
nf_sSFR = nf_pred[0, :, 2]
nngauss_sSFR = nngauss_pred[0, :, 2]

axs[1, 0].set_title('sSFR')
axs[1, 0].plot(dataset['sSFR'], dataset['sSFR'], color='black', ls='--')
axs[1, 0].scatter(nngauss_sSFR, dataset['sSFR'], color=nngauss.color, label=nngauss.label, marker=nngauss.marker, alpha=0.5)
axs[1, 0].scatter(nf_sSFR, dataset['sSFR'], color=nf.color, label=nf.label, marker=nf.marker, alpha=0.5)
axs[1, 0].set_ylabel('Predicted')
axs[1, 0].set_xlabel('True')

# Radius
nf_radius = nf_pred[0, :, 3]
nngauss_radius = nngauss_pred[0, :, 3]

axs[1, 1].set_title('Radius')
axs[1, 1].plot(dataset['radius'], dataset['radius'], color='black', ls='--')
axs[1, 1].scatter(nngauss_radius, dataset['radius'], color=nngauss.color, label=nngauss.label, marker=nngauss.marker, alpha=0.5)
axs[1, 1].scatter(nf_radius, dataset['radius'], color=nf.color, label=nf.label, marker=nf.marker, alpha=0.5)
axs[1, 1].set_ylabel('Predicted')
axs[1, 1].set_xlabel('True')

plt.savefig('results/linear_comparison.png')





from missing_features import check_input_data


input_props = ['M_h', 'C_h', 'S_h', 'z_h']
input_data = dataset[input_props]

input_data = check_input_data(input_data)


nngauss_pred = nngauss.get_sample(input_data, n_samples=10)
nf_pred = nf.get_sample(input_data, n_samples=10)



