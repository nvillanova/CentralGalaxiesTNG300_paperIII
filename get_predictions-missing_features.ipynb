{
 "cells": [
  {
   "cell_type": "markdown",
   "id": "1d691f3e-bba4-4ac6-9efe-9ec46d0ee42b",
   "metadata": {},
   "source": [
    "# Getting predicions\n",
    "\n",
    "This notebook load and use the **NF**, **NNclass**, and **NNgauss** models\n",
    "\n",
    "considering **missing features** in the _input dataset_ (halo properties: _mass_, _concentration_, _spin_, _age_, and $\\delta_3$). \n",
    "\n",
    "In this notebook we provide an example of how to get the galaxy attributes (_stellar mass_, _color_, _sSFR_, and _radius_) \n",
    "\n",
    "given that the halo property $\\delta_3$ is missing!"
   ]
  },
  {
   "cell_type": "markdown",
   "id": "cccc7269-c03e-447d-9aa0-844d663ed7ed",
   "metadata": {},
   "source": [
    "## Importing the libraries"
   ]
  },
  {
   "cell_type": "code",
   "execution_count": 1,
   "id": "944d1181-5bb2-4ac4-9bc7-30d27debf0eb",
   "metadata": {},
   "outputs": [
    {
     "name": "stderr",
     "output_type": "stream",
     "text": [
      "/Users/natalidesanti/env_pytorch/lib/python3.11/site-packages/tqdm/auto.py:21: TqdmWarning: IProgress not found. Please update jupyter and ipywidgets. See https://ipywidgets.readthedocs.io/en/stable/user_install.html\n",
      "  from .autonotebook import tqdm as notebook_tqdm\n"
     ]
    },
    {
     "name": "stdout",
     "output_type": "stream",
     "text": [
      "GPU is not available. Using CPU instead.\n"
     ]
    }
   ],
   "source": [
    "from NF import NF\n",
    "from NNgauss import NNgauss\n",
    "#from NNclass import NNclass\n",
    "import pandas as pd\n",
    "import matplotlib.pyplot as plt\n",
    "from missing_features import check_input_data"
   ]
  },
  {
   "cell_type": "markdown",
   "id": "5b8289e8-00f7-4980-a491-5ab359712e6d",
   "metadata": {},
   "source": [
    "## Loading data"
   ]
  },
  {
   "cell_type": "markdown",
   "id": "9cb670a0-5289-4377-ab51-c05c26222b2f",
   "metadata": {},
   "source": [
    "Let's get the missing input data:"
   ]
  },
  {
   "cell_type": "code",
   "execution_count": 2,
   "id": "ce3ac39e-3321-496d-a032-e2e4d5673efc",
   "metadata": {},
   "outputs": [],
   "source": [
    "input_dataset = pd.read_csv('data/subtest_tng300_inputs_missing_Delta3_h.csv')"
   ]
  },
  {
   "cell_type": "code",
   "execution_count": 3,
   "id": "51fde7f7-f166-4685-b1e1-e0dfa33255c4",
   "metadata": {},
   "outputs": [
    {
     "data": {
      "text/html": [
       "<div>\n",
       "<style scoped>\n",
       "    .dataframe tbody tr th:only-of-type {\n",
       "        vertical-align: middle;\n",
       "    }\n",
       "\n",
       "    .dataframe tbody tr th {\n",
       "        vertical-align: top;\n",
       "    }\n",
       "\n",
       "    .dataframe thead th {\n",
       "        text-align: right;\n",
       "    }\n",
       "</style>\n",
       "<table border=\"1\" class=\"dataframe\">\n",
       "  <thead>\n",
       "    <tr style=\"text-align: right;\">\n",
       "      <th></th>\n",
       "      <th>M_h</th>\n",
       "      <th>C_h</th>\n",
       "      <th>S_h</th>\n",
       "      <th>z_h</th>\n",
       "    </tr>\n",
       "  </thead>\n",
       "  <tbody>\n",
       "    <tr>\n",
       "      <th>0</th>\n",
       "      <td>11.230634</td>\n",
       "      <td>0.949239</td>\n",
       "      <td>0.102213</td>\n",
       "      <td>0.909091</td>\n",
       "    </tr>\n",
       "    <tr>\n",
       "      <th>1</th>\n",
       "      <td>11.193012</td>\n",
       "      <td>0.978603</td>\n",
       "      <td>0.057343</td>\n",
       "      <td>1.333333</td>\n",
       "    </tr>\n",
       "    <tr>\n",
       "      <th>2</th>\n",
       "      <td>11.963388</td>\n",
       "      <td>1.061022</td>\n",
       "      <td>0.012275</td>\n",
       "      <td>1.575758</td>\n",
       "    </tr>\n",
       "    <tr>\n",
       "      <th>3</th>\n",
       "      <td>11.788298</td>\n",
       "      <td>1.047671</td>\n",
       "      <td>0.069209</td>\n",
       "      <td>1.818182</td>\n",
       "    </tr>\n",
       "    <tr>\n",
       "      <th>4</th>\n",
       "      <td>11.464064</td>\n",
       "      <td>1.117278</td>\n",
       "      <td>0.067701</td>\n",
       "      <td>2.242424</td>\n",
       "    </tr>\n",
       "  </tbody>\n",
       "</table>\n",
       "</div>"
      ],
      "text/plain": [
       "         M_h       C_h       S_h       z_h\n",
       "0  11.230634  0.949239  0.102213  0.909091\n",
       "1  11.193012  0.978603  0.057343  1.333333\n",
       "2  11.963388  1.061022  0.012275  1.575758\n",
       "3  11.788298  1.047671  0.069209  1.818182\n",
       "4  11.464064  1.117278  0.067701  2.242424"
      ]
     },
     "execution_count": 3,
     "metadata": {},
     "output_type": "execute_result"
    }
   ],
   "source": [
    "input_dataset.head()"
   ]
  },
  {
   "cell_type": "markdown",
   "id": "aa689817-ca57-48ef-a8f7-03949d3dd271",
   "metadata": {},
   "source": [
    "Then, we just need to fill the missing part checking it:"
   ]
  },
  {
   "cell_type": "code",
   "execution_count": 4,
   "id": "7e546ee4-b2ef-48e4-b95f-48349b2c0c32",
   "metadata": {},
   "outputs": [
    {
     "name": "stdout",
     "output_type": "stream",
     "text": [
      "Missing features: ['Delta3_h']. Generating \"fake\" input features...\n"
     ]
    },
    {
     "name": "stderr",
     "output_type": "stream",
     "text": [
      "/Users/natalidesanti/env_pytorch/lib/python3.11/site-packages/sklearn/base.py:348: InconsistentVersionWarning: Trying to unpickle estimator MinMaxScaler from version 1.2.2 when using version 1.3.2. This might lead to breaking code or invalid results. Use at your own risk. For more info please refer to:\n",
      "https://scikit-learn.org/stable/model_persistence.html#security-maintainability-limitations\n",
      "  warnings.warn(\n"
     ]
    }
   ],
   "source": [
    "input_dataset = check_input_data(input_dataset)"
   ]
  },
  {
   "cell_type": "markdown",
   "id": "dcda95b8-a13c-49d2-81fc-113a34868b50",
   "metadata": {},
   "source": [
    "And not we have it!"
   ]
  },
  {
   "cell_type": "markdown",
   "id": "781dbb93-0048-412c-ace4-ddf91763bd9d",
   "metadata": {},
   "source": [
    "Getting the target dataset now:"
   ]
  },
  {
   "cell_type": "code",
   "execution_count": 5,
   "id": "5c7861fb-3bc4-4854-927b-3e363c29a885",
   "metadata": {},
   "outputs": [],
   "source": [
    "target_dataset = pd.read_csv('data/subtest_tng300_targets.csv')"
   ]
  },
  {
   "cell_type": "code",
   "execution_count": 6,
   "id": "96b872ca-7410-481a-9bef-5ebd3f988276",
   "metadata": {},
   "outputs": [
    {
     "data": {
      "text/html": [
       "<div>\n",
       "<style scoped>\n",
       "    .dataframe tbody tr th:only-of-type {\n",
       "        vertical-align: middle;\n",
       "    }\n",
       "\n",
       "    .dataframe tbody tr th {\n",
       "        vertical-align: top;\n",
       "    }\n",
       "\n",
       "    .dataframe thead th {\n",
       "        text-align: right;\n",
       "    }\n",
       "</style>\n",
       "<table border=\"1\" class=\"dataframe\">\n",
       "  <thead>\n",
       "    <tr style=\"text-align: right;\">\n",
       "      <th></th>\n",
       "      <th>smass</th>\n",
       "      <th>color</th>\n",
       "      <th>sSFR</th>\n",
       "      <th>radius</th>\n",
       "    </tr>\n",
       "  </thead>\n",
       "  <tbody>\n",
       "    <tr>\n",
       "      <th>0</th>\n",
       "      <td>9.020804</td>\n",
       "      <td>0.441576</td>\n",
       "      <td>-9.636042</td>\n",
       "      <td>0.428343</td>\n",
       "    </tr>\n",
       "    <tr>\n",
       "      <th>1</th>\n",
       "      <td>8.825384</td>\n",
       "      <td>0.075232</td>\n",
       "      <td>-9.731375</td>\n",
       "      <td>0.266293</td>\n",
       "    </tr>\n",
       "    <tr>\n",
       "      <th>2</th>\n",
       "      <td>10.391277</td>\n",
       "      <td>1.130091</td>\n",
       "      <td>-12.301883</td>\n",
       "      <td>0.482415</td>\n",
       "    </tr>\n",
       "    <tr>\n",
       "      <th>3</th>\n",
       "      <td>10.166031</td>\n",
       "      <td>0.910177</td>\n",
       "      <td>-11.408447</td>\n",
       "      <td>0.774072</td>\n",
       "    </tr>\n",
       "    <tr>\n",
       "      <th>4</th>\n",
       "      <td>9.647124</td>\n",
       "      <td>1.016806</td>\n",
       "      <td>-10.740095</td>\n",
       "      <td>0.679863</td>\n",
       "    </tr>\n",
       "  </tbody>\n",
       "</table>\n",
       "</div>"
      ],
      "text/plain": [
       "       smass     color       sSFR    radius\n",
       "0   9.020804  0.441576  -9.636042  0.428343\n",
       "1   8.825384  0.075232  -9.731375  0.266293\n",
       "2  10.391277  1.130091 -12.301883  0.482415\n",
       "3  10.166031  0.910177 -11.408447  0.774072\n",
       "4   9.647124  1.016806 -10.740095  0.679863"
      ]
     },
     "execution_count": 6,
     "metadata": {},
     "output_type": "execute_result"
    }
   ],
   "source": [
    "target_dataset.head()"
   ]
  },
  {
   "cell_type": "markdown",
   "id": "357cf2d8-91e6-4776-9457-338c28ff1ae0",
   "metadata": {},
   "source": [
    "## Selecting data"
   ]
  },
  {
   "cell_type": "code",
   "execution_count": 7,
   "id": "1740a189-83f9-43cb-8f65-0c7c8a1c828e",
   "metadata": {},
   "outputs": [],
   "source": [
    "# Target properties\n",
    "target_props = ['smass', 'color', 'sSFR', 'radius']"
   ]
  },
  {
   "cell_type": "markdown",
   "id": "bcc79754-8b8c-45a3-9813-b9a4bc8b7219",
   "metadata": {},
   "source": [
    "## Loading the models\n",
    "\n",
    "The output shape is `(n_samples, n_simulations, n_dimensions)`\n"
   ]
  },
  {
   "cell_type": "code",
   "execution_count": 8,
   "id": "47bd9a40-f11e-4180-907b-38079efd2f76",
   "metadata": {},
   "outputs": [],
   "source": [
    "nngauss = NNgauss(target_props, trial = 45)\n",
    "nf = NF(target_props, trial = 99)\n",
    "#nnclass = NNclass(target_props, trial = 77)"
   ]
  },
  {
   "cell_type": "markdown",
   "id": "015a7f6e-9001-4880-935b-8a39cfbd05a2",
   "metadata": {},
   "source": [
    "## Getting the predictions"
   ]
  },
  {
   "cell_type": "markdown",
   "id": "c94c30e1-83e8-41f7-83f2-2ea2e75e5fd0",
   "metadata": {},
   "source": [
    "Sampling from the loaded models"
   ]
  },
  {
   "cell_type": "code",
   "execution_count": 9,
   "id": "c8532153-ee95-4bc1-a20a-40ecd0c59d44",
   "metadata": {},
   "outputs": [
    {
     "name": "stdout",
     "output_type": "stream",
     "text": [
      "\u001b[1m1/1\u001b[0m \u001b[32m━━━━━━━━━━━━━━━━━━━━\u001b[0m\u001b[37m\u001b[0m \u001b[1m0s\u001b[0m 27ms/step\n"
     ]
    }
   ],
   "source": [
    "nngauss_pred = nngauss.get_sample(input_dataset, n_samples = 10)"
   ]
  },
  {
   "cell_type": "code",
   "execution_count": 10,
   "id": "25d92634-61a3-4a31-b3cd-ba57ec9d3884",
   "metadata": {},
   "outputs": [
    {
     "name": "stdout",
     "output_type": "stream",
     "text": [
      "# instance: 0\n"
     ]
    },
    {
     "name": "stderr",
     "output_type": "stream",
     "text": [
      "/Users/natalidesanti/env_pytorch/lib/python3.11/site-packages/sklearn/base.py:348: InconsistentVersionWarning: Trying to unpickle estimator MinMaxScaler from version 1.2.2 when using version 1.3.2. This might lead to breaking code or invalid results. Use at your own risk. For more info please refer to:\n",
      "https://scikit-learn.org/stable/model_persistence.html#security-maintainability-limitations\n",
      "  warnings.warn(\n"
     ]
    }
   ],
   "source": [
    "nf_pred = nf.get_sample(input_dataset, n_samples = 10)"
   ]
  },
  {
   "cell_type": "code",
   "execution_count": 11,
   "id": "47524956-cd9d-432b-8787-07413242e75f",
   "metadata": {},
   "outputs": [],
   "source": [
    "#nnclass_pred = nnclass.get_sample(input_data, 5, 2)"
   ]
  },
  {
   "cell_type": "code",
   "execution_count": 12,
   "id": "11246235-4a3e-46d0-9846-69dd638cd81f",
   "metadata": {},
   "outputs": [
    {
     "data": {
      "text/plain": [
       "((10, 10, 4), (10, 10, 4))"
      ]
     },
     "execution_count": 12,
     "metadata": {},
     "output_type": "execute_result"
    }
   ],
   "source": [
    "nf_pred.shape, nngauss_pred.shape"
   ]
  },
  {
   "cell_type": "markdown",
   "id": "9096e6c9-898a-4683-9366-4b3795624359",
   "metadata": {},
   "source": [
    "## Linear comparison"
   ]
  },
  {
   "cell_type": "code",
   "execution_count": 13,
   "id": "64ba54dc-156c-45ef-8eda-dd947cc94446",
   "metadata": {},
   "outputs": [
    {
     "data": {
      "image/png": "[encoded data removed]",
      "text/plain": [
       "<Figure size 1000x1000 with 4 Axes>"
      ]
     },
     "metadata": {},
     "output_type": "display_data"
    }
   ],
   "source": [
    "fig, axs = plt.subplots(2, 2, figsize = (10, 10), dpi = 100)\n",
    "\n",
    "#Stellar Mass\n",
    "nf_smass = nf_pred[0, :, 0]\n",
    "nngauss_smass = nngauss_pred[0, :, 0]\n",
    "\n",
    "axs[0, 0].set_title('Stellar Mass')\n",
    "axs[0, 0].plot(target_dataset['smass'], target_dataset['smass'], color = 'black')\n",
    "axs[0, 0].scatter(nngauss_smass, target_dataset['smass'], color = nngauss.color, label = nngauss.label, marker = nngauss.marker, alpha = 0.5)\n",
    "axs[0, 0].scatter(nf_smass, target_dataset['smass'], color = nf.color, label = nf.label, marker = nf.marker, alpha = 0.5)\n",
    "axs[0, 0].legend()\n",
    "axs[0, 0].set_ylabel('Predicted')\n",
    "axs[0, 0].set_xlabel('True')\n",
    "\n",
    "#Color\n",
    "nf_color = nf_pred[0, :, 1]\n",
    "nngauss_color = nngauss_pred[0, :, 1]\n",
    "\n",
    "axs[0, 1].set_title('Color')\n",
    "axs[0, 1].plot(target_dataset['color'], target_dataset['color'], color = 'black')\n",
    "axs[0, 1].scatter(nngauss_color, target_dataset['color'], color = nngauss.color, label = nngauss.label, marker = nngauss.marker, alpha = 0.5)\n",
    "axs[0, 1].scatter(nf_color, target_dataset['color'], color = nf.color, label = nf.label, marker = nf.marker, alpha = 0.5)\n",
    "axs[0, 1].set_ylabel('Predicted')\n",
    "axs[0, 1].set_xlabel('True')\n",
    "\n",
    "#sSFR\n",
    "nf_sSFR = nf_pred[0, :, 2]\n",
    "nngauss_sSFR = nngauss_pred[0, :, 2]\n",
    "\n",
    "axs[1, 0].set_title('sSFR')\n",
    "axs[1, 0].plot(target_dataset['sSFR'], target_dataset['sSFR'], color = 'black')\n",
    "axs[1, 0].scatter(nngauss_sSFR, target_dataset['sSFR'], color = nngauss.color, label = nngauss.label, marker = nngauss.marker, alpha = 0.5)\n",
    "axs[1, 0].scatter(nf_sSFR, target_dataset['sSFR'], color = nf.color, label = nf.label, marker = nf.marker, alpha = 0.5)\n",
    "axs[1, 0].set_ylabel('Predicted')\n",
    "axs[1, 0].set_xlabel('True')\n",
    "\n",
    "#Radius\n",
    "nf_radius = nf_pred[0, :, 3]\n",
    "nngauss_radius = nngauss_pred[0, :, 3]\n",
    "\n",
    "axs[1, 1].set_title('Radius')\n",
    "axs[1, 1].plot(target_dataset['radius'], target_dataset['radius'], color = 'black')\n",
    "axs[1, 1].scatter(nngauss_radius, target_dataset['radius'], color = nngauss.color, label = nngauss.label, marker = nngauss.marker, alpha = 0.5)\n",
    "axs[1, 1].scatter(nf_radius, target_dataset['radius'], color = nf.color, label = nf.label, marker = nf.marker, alpha = 0.5)\n",
    "axs[1, 1].set_ylabel('Predicted')\n",
    "axs[1, 1].set_xlabel('True')\n",
    "\n",
    "plt.savefig('results/from_missing-linear_comparison.png')"
   ]
  },
  {
   "cell_type": "code",
   "execution_count": null,
   "id": "8feecfea-68a7-484a-82e0-4c2126d46f04",
   "metadata": {},
   "outputs": [],
   "source": []
  }
 ],
 "metadata": {
  "kernelspec": {
   "display_name": "env_pytorch",
   "language": "python",
   "name": "env_pytorch"
  },
  "language_info": {
   "codemirror_mode": {
    "name": "ipython",
    "version": 3
   },
   "file_extension": ".py",
   "mimetype": "text/x-python",
   "name": "python",
   "nbconvert_exporter": "python",
   "pygments_lexer": "ipython3",
   "version": "3.11.4"
  }
 },
 "nbformat": 4,
 "nbformat_minor": 5
}
