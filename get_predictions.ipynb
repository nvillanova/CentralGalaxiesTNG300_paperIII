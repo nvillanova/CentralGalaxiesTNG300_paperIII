{
 "cells": [
  {
   "cell_type": "markdown",
   "id": "1d691f3e-bba4-4ac6-9efe-9ec46d0ee42b",
   "metadata": {},
   "source": [
    "# Getting predicions\n",
    "\n",
    "This notebook load and use the models"
   ]
  },
  {
   "cell_type": "markdown",
   "id": "cccc7269-c03e-447d-9aa0-844d663ed7ed",
   "metadata": {},
   "source": [
    "## Importing the libraries"
   ]
  },
  {
   "cell_type": "code",
   "execution_count": 1,
   "id": "944d1181-5bb2-4ac4-9bc7-30d27debf0eb",
   "metadata": {},
   "outputs": [
    {
     "name": "stderr",
     "output_type": "stream",
     "text": [
      "/Users/natalidesanti/env_pytorch/lib/python3.11/site-packages/tqdm/auto.py:21: TqdmWarning: IProgress not found. Please update jupyter and ipywidgets. See https://ipywidgets.readthedocs.io/en/stable/user_install.html\n",
      "  from .autonotebook import tqdm as notebook_tqdm\n"
     ]
    },
    {
     "name": "stdout",
     "output_type": "stream",
     "text": [
      "GPU is not available. Using CPU instead.\n"
     ]
    }
   ],
   "source": [
    "from NF import NF\n",
    "from NNgauss import NNgauss\n",
    "import pandas as pd\n",
    "import matplotlib.pyplot as plt"
   ]
  },
  {
   "cell_type": "markdown",
   "id": "5b8289e8-00f7-4980-a491-5ab359712e6d",
   "metadata": {},
   "source": [
    "## Loading data"
   ]
  },
  {
   "cell_type": "code",
   "execution_count": 2,
   "id": "ce3ac39e-3321-496d-a032-e2e4d5673efc",
   "metadata": {},
   "outputs": [],
   "source": [
    "dataset = pd.read_csv('data/subtest_tng300.csv')"
   ]
  },
  {
   "cell_type": "code",
   "execution_count": 3,
   "id": "51fde7f7-f166-4685-b1e1-e0dfa33255c4",
   "metadata": {},
   "outputs": [
    {
     "data": {
      "text/html": [
       "<div>\n",
       "<style scoped>\n",
       "    .dataframe tbody tr th:only-of-type {\n",
       "        vertical-align: middle;\n",
       "    }\n",
       "\n",
       "    .dataframe tbody tr th {\n",
       "        vertical-align: top;\n",
       "    }\n",
       "\n",
       "    .dataframe thead th {\n",
       "        text-align: right;\n",
       "    }\n",
       "</style>\n",
       "<table border=\"1\" class=\"dataframe\">\n",
       "  <thead>\n",
       "    <tr style=\"text-align: right;\">\n",
       "      <th></th>\n",
       "      <th>ID</th>\n",
       "      <th>X_h</th>\n",
       "      <th>Y_h</th>\n",
       "      <th>Z_h</th>\n",
       "      <th>M_h</th>\n",
       "      <th>C_h</th>\n",
       "      <th>S_h</th>\n",
       "      <th>z_h</th>\n",
       "      <th>Delta3_h</th>\n",
       "      <th>x_g</th>\n",
       "      <th>y_g</th>\n",
       "      <th>z_g</th>\n",
       "      <th>smass</th>\n",
       "      <th>color</th>\n",
       "      <th>radius</th>\n",
       "      <th>sSFR</th>\n",
       "    </tr>\n",
       "  </thead>\n",
       "  <tbody>\n",
       "    <tr>\n",
       "      <th>0</th>\n",
       "      <td>148942.0</td>\n",
       "      <td>37.155465</td>\n",
       "      <td>83.731352</td>\n",
       "      <td>156.890562</td>\n",
       "      <td>11.230634</td>\n",
       "      <td>0.949239</td>\n",
       "      <td>0.102213</td>\n",
       "      <td>0.909091</td>\n",
       "      <td>9.760820</td>\n",
       "      <td>37.155464</td>\n",
       "      <td>83.731354</td>\n",
       "      <td>156.890564</td>\n",
       "      <td>9.020804</td>\n",
       "      <td>0.441576</td>\n",
       "      <td>0.428343</td>\n",
       "      <td>-9.636042</td>\n",
       "    </tr>\n",
       "    <tr>\n",
       "      <th>1</th>\n",
       "      <td>143805.0</td>\n",
       "      <td>62.748066</td>\n",
       "      <td>184.040500</td>\n",
       "      <td>188.505172</td>\n",
       "      <td>11.193012</td>\n",
       "      <td>0.978603</td>\n",
       "      <td>0.057343</td>\n",
       "      <td>1.333333</td>\n",
       "      <td>1.123779</td>\n",
       "      <td>62.748066</td>\n",
       "      <td>184.040497</td>\n",
       "      <td>188.505173</td>\n",
       "      <td>8.825384</td>\n",
       "      <td>0.075232</td>\n",
       "      <td>0.266293</td>\n",
       "      <td>-9.731375</td>\n",
       "    </tr>\n",
       "    <tr>\n",
       "      <th>2</th>\n",
       "      <td>37609.0</td>\n",
       "      <td>191.439203</td>\n",
       "      <td>117.276422</td>\n",
       "      <td>130.288531</td>\n",
       "      <td>11.963388</td>\n",
       "      <td>1.061022</td>\n",
       "      <td>0.012275</td>\n",
       "      <td>1.575758</td>\n",
       "      <td>2.584691</td>\n",
       "      <td>191.439209</td>\n",
       "      <td>117.276421</td>\n",
       "      <td>130.288528</td>\n",
       "      <td>10.391277</td>\n",
       "      <td>1.130091</td>\n",
       "      <td>0.482415</td>\n",
       "      <td>-12.301883</td>\n",
       "    </tr>\n",
       "    <tr>\n",
       "      <th>3</th>\n",
       "      <td>48567.0</td>\n",
       "      <td>76.807563</td>\n",
       "      <td>143.693719</td>\n",
       "      <td>179.001844</td>\n",
       "      <td>11.788298</td>\n",
       "      <td>1.047671</td>\n",
       "      <td>0.069209</td>\n",
       "      <td>1.818182</td>\n",
       "      <td>0.915077</td>\n",
       "      <td>76.807564</td>\n",
       "      <td>143.693726</td>\n",
       "      <td>179.001846</td>\n",
       "      <td>10.166031</td>\n",
       "      <td>0.910177</td>\n",
       "      <td>0.774072</td>\n",
       "      <td>-11.408447</td>\n",
       "    </tr>\n",
       "    <tr>\n",
       "      <th>4</th>\n",
       "      <td>92208.0</td>\n",
       "      <td>177.415203</td>\n",
       "      <td>11.204672</td>\n",
       "      <td>30.818141</td>\n",
       "      <td>11.464064</td>\n",
       "      <td>1.117278</td>\n",
       "      <td>0.067701</td>\n",
       "      <td>2.242424</td>\n",
       "      <td>1.284318</td>\n",
       "      <td>177.415207</td>\n",
       "      <td>11.204672</td>\n",
       "      <td>30.818140</td>\n",
       "      <td>9.647124</td>\n",
       "      <td>1.016806</td>\n",
       "      <td>0.679863</td>\n",
       "      <td>-10.740095</td>\n",
       "    </tr>\n",
       "  </tbody>\n",
       "</table>\n",
       "</div>"
      ],
      "text/plain": [
       "         ID         X_h         Y_h         Z_h        M_h       C_h  \\\n",
       "0  148942.0   37.155465   83.731352  156.890562  11.230634  0.949239   \n",
       "1  143805.0   62.748066  184.040500  188.505172  11.193012  0.978603   \n",
       "2   37609.0  191.439203  117.276422  130.288531  11.963388  1.061022   \n",
       "3   48567.0   76.807563  143.693719  179.001844  11.788298  1.047671   \n",
       "4   92208.0  177.415203   11.204672   30.818141  11.464064  1.117278   \n",
       "\n",
       "        S_h       z_h  Delta3_h         x_g         y_g         z_g  \\\n",
       "0  0.102213  0.909091  9.760820   37.155464   83.731354  156.890564   \n",
       "1  0.057343  1.333333  1.123779   62.748066  184.040497  188.505173   \n",
       "2  0.012275  1.575758  2.584691  191.439209  117.276421  130.288528   \n",
       "3  0.069209  1.818182  0.915077   76.807564  143.693726  179.001846   \n",
       "4  0.067701  2.242424  1.284318  177.415207   11.204672   30.818140   \n",
       "\n",
       "       smass     color    radius       sSFR  \n",
       "0   9.020804  0.441576  0.428343  -9.636042  \n",
       "1   8.825384  0.075232  0.266293  -9.731375  \n",
       "2  10.391277  1.130091  0.482415 -12.301883  \n",
       "3  10.166031  0.910177  0.774072 -11.408447  \n",
       "4   9.647124  1.016806  0.679863 -10.740095  "
      ]
     },
     "execution_count": 3,
     "metadata": {},
     "output_type": "execute_result"
    }
   ],
   "source": [
    "dataset.head()"
   ]
  },
  {
   "cell_type": "markdown",
   "id": "357cf2d8-91e6-4776-9457-338c28ff1ae0",
   "metadata": {},
   "source": [
    "## Selecting data"
   ]
  },
  {
   "cell_type": "code",
   "execution_count": 4,
   "id": "1740a189-83f9-43cb-8f65-0c7c8a1c828e",
   "metadata": {},
   "outputs": [],
   "source": [
    "# Properties\n",
    "target_props = ['smass', 'color', 'sSFR', 'radius']\n",
    "input_props = ['M_h', 'C_h', 'S_h', 'z_h', 'Delta3_h']\n",
    "\n",
    "input_data = dataset[input_props].to_numpy()"
   ]
  },
  {
   "cell_type": "markdown",
   "id": "bcc79754-8b8c-45a3-9813-b9a4bc8b7219",
   "metadata": {},
   "source": [
    "## Loading the models\n",
    "\n",
    "The output shape is `(n_samples, n_simulations, n_dimensions)`\n"
   ]
  },
  {
   "cell_type": "code",
   "execution_count": 5,
   "id": "47bd9a40-f11e-4180-907b-38079efd2f76",
   "metadata": {},
   "outputs": [],
   "source": [
    "nngauss = NNgauss(target_props, trial = 45)\n",
    "nf = NF(target_props, trial = 99)"
   ]
  },
  {
   "cell_type": "markdown",
   "id": "015a7f6e-9001-4880-935b-8a39cfbd05a2",
   "metadata": {},
   "source": [
    "## Getting the predictions"
   ]
  },
  {
   "cell_type": "code",
   "execution_count": 6,
   "id": "c8532153-ee95-4bc1-a20a-40ecd0c59d44",
   "metadata": {},
   "outputs": [
    {
     "ename": "ValueError",
     "evalue": "Exception encountered when calling layer 'distribution_lambda' (type DistributionLambda).\n\nA KerasTensor cannot be used as input to a TensorFlow function. A KerasTensor is a symbolic placeholder for a shape and dtype, used when constructing Keras Functional models or Keras Functions. You can only use it as input to a Keras layer or a Keras operation (from the namespaces `keras.layers` and `keras.operations`). You are likely doing something like:\n\n```\nx = Input(...)\n...\ntf_fn(x)  # Invalid.\n```\n\nWhat you should do instead is wrap `tf_fn` in a layer:\n\n```\nclass MyLayer(Layer):\n    def call(self, x):\n        return tf_fn(x)\n\nx = MyLayer()(x)\n```\n\n\nCall arguments received by layer 'distribution_lambda' (type DistributionLambda):\n  • inputs=<KerasTensor shape=(None, 14), dtype=float32, sparse=False, name=keras_tensor_6>\n  • args=<class 'inspect._empty'>\n  • kwargs={'training': 'None'}",
     "output_type": "error",
     "traceback": [
      "\u001b[0;31m---------------------------------------------------------------------------\u001b[0m",
      "\u001b[0;31mValueError\u001b[0m                                Traceback (most recent call last)",
      "Cell \u001b[0;32mIn[6], line 1\u001b[0m\n\u001b[0;32m----> 1\u001b[0m nngauss_pred \u001b[38;5;241m=\u001b[39m \u001b[43mnngauss\u001b[49m\u001b[38;5;241;43m.\u001b[39;49m\u001b[43mget_sample\u001b[49m\u001b[43m(\u001b[49m\u001b[43minput_data\u001b[49m\u001b[43m,\u001b[49m\u001b[43m \u001b[49m\u001b[43mn_samples\u001b[49m\u001b[43m \u001b[49m\u001b[38;5;241;43m=\u001b[39;49m\u001b[43m \u001b[49m\u001b[38;5;241;43m10\u001b[39;49m\u001b[43m)\u001b[49m\n",
      "File \u001b[0;32m~/Library/CloudStorage/Dropbox/doutorado/IllustrisTNG-3/github/CentralGalaxiesTNG300_paperIII/NNgauss.py:112\u001b[0m, in \u001b[0;36mNNgauss.get_sample\u001b[0;34m(self, input_data, n_samples)\u001b[0m\n\u001b[1;32m    110\u001b[0m \u001b[38;5;28;01mdef\u001b[39;00m \u001b[38;5;21mget_sample\u001b[39m(\u001b[38;5;28mself\u001b[39m, input_data, n_samples\u001b[38;5;241m=\u001b[39m\u001b[38;5;241m1\u001b[39m):\n\u001b[0;32m--> 112\u001b[0m     model \u001b[38;5;241m=\u001b[39m \u001b[38;5;28;43mself\u001b[39;49m\u001b[38;5;241;43m.\u001b[39;49m\u001b[43mget_model\u001b[49m\u001b[43m(\u001b[49m\u001b[43m)\u001b[49m\n\u001b[1;32m    114\u001b[0m     x_scaler_loaded \u001b[38;5;241m=\u001b[39m \u001b[38;5;28mself\u001b[39m\u001b[38;5;241m.\u001b[39mx_scaler()\n\u001b[1;32m    115\u001b[0m     y_scaler_loaded \u001b[38;5;241m=\u001b[39m \u001b[38;5;28mself\u001b[39m\u001b[38;5;241m.\u001b[39my_scaler()\n",
      "File \u001b[0;32m~/Library/CloudStorage/Dropbox/doutorado/IllustrisTNG-3/github/CentralGalaxiesTNG300_paperIII/NNgauss.py:98\u001b[0m, in \u001b[0;36mNNgauss.get_model\u001b[0;34m(self)\u001b[0m\n\u001b[1;32m     93\u001b[0m     x \u001b[38;5;241m=\u001b[39m tf\u001b[38;5;241m.\u001b[39mkeras\u001b[38;5;241m.\u001b[39mlayers\u001b[38;5;241m.\u001b[39mDense(hidden_units[nl],\n\u001b[1;32m     94\u001b[0m                               activation\u001b[38;5;241m=\u001b[39m\u001b[38;5;124m'\u001b[39m\u001b[38;5;124mrelu\u001b[39m\u001b[38;5;124m'\u001b[39m,\n\u001b[1;32m     95\u001b[0m                               kernel_regularizer\u001b[38;5;241m=\u001b[39mtf\u001b[38;5;241m.\u001b[39mkeras\u001b[38;5;241m.\u001b[39mregularizers\u001b[38;5;241m.\u001b[39mL2(l2\u001b[38;5;241m=\u001b[39mhidden_l2[nl]))(x)\n\u001b[1;32m     97\u001b[0m x \u001b[38;5;241m=\u001b[39m Dense(tfpl\u001b[38;5;241m.\u001b[39mMultivariateNormalTriL\u001b[38;5;241m.\u001b[39mparams_size(\u001b[38;5;28mint\u001b[39m(\u001b[38;5;28mself\u001b[39m\u001b[38;5;241m.\u001b[39mNdims)))(x)\n\u001b[0;32m---> 98\u001b[0m x \u001b[38;5;241m=\u001b[39m \u001b[43mtfp\u001b[49m\u001b[38;5;241;43m.\u001b[39;49m\u001b[43mlayers\u001b[49m\u001b[38;5;241;43m.\u001b[39;49m\u001b[43mDistributionLambda\u001b[49m\u001b[43m(\u001b[49m\u001b[38;5;28;43;01mlambda\u001b[39;49;00m\u001b[43m \u001b[49m\u001b[43mt\u001b[49m\u001b[43m:\u001b[49m\n\u001b[1;32m     99\u001b[0m \u001b[43m                                  \u001b[49m\u001b[43mtfd\u001b[49m\u001b[38;5;241;43m.\u001b[39;49m\u001b[43mMultivariateNormalTriL\u001b[49m\u001b[43m(\u001b[49m\u001b[43mloc\u001b[49m\u001b[38;5;241;43m=\u001b[39;49m\u001b[43mt\u001b[49m\u001b[43m[\u001b[49m\u001b[38;5;241;43m.\u001b[39;49m\u001b[38;5;241;43m.\u001b[39;49m\u001b[38;5;241;43m.\u001b[39;49m\u001b[43m,\u001b[49m\u001b[43m \u001b[49m\u001b[43m:\u001b[49m\u001b[38;5;28;43mint\u001b[39;49m\u001b[43m(\u001b[49m\u001b[38;5;28;43mself\u001b[39;49m\u001b[38;5;241;43m.\u001b[39;49m\u001b[43mNdims\u001b[49m\u001b[43m)\u001b[49m\u001b[43m]\u001b[49m\u001b[43m,\u001b[49m\n\u001b[1;32m    100\u001b[0m \u001b[43m                                                             \u001b[49m\u001b[43mscale_tril\u001b[49m\u001b[38;5;241;43m=\u001b[39;49m\u001b[43mtfp\u001b[49m\u001b[38;5;241;43m.\u001b[39;49m\u001b[43mmath\u001b[49m\u001b[38;5;241;43m.\u001b[39;49m\u001b[43mfill_triangular\u001b[49m\u001b[43m(\u001b[49m\u001b[43mt\u001b[49m\u001b[43m[\u001b[49m\u001b[38;5;241;43m.\u001b[39;49m\u001b[38;5;241;43m.\u001b[39;49m\u001b[38;5;241;43m.\u001b[39;49m\u001b[43m,\u001b[49m\n\u001b[1;32m    101\u001b[0m \u001b[43m                                                                                                 \u001b[49m\u001b[38;5;28;43mint\u001b[39;49m\u001b[43m(\u001b[49m\u001b[38;5;28;43mself\u001b[39;49m\u001b[38;5;241;43m.\u001b[39;49m\u001b[43mNdims\u001b[49m\u001b[43m)\u001b[49m\u001b[43m:\u001b[49m\u001b[43m]\u001b[49m\u001b[43m)\u001b[49m\u001b[43m)\u001b[49m\u001b[43m)\u001b[49m\u001b[43m(\u001b[49m\u001b[43mx\u001b[49m\u001b[43m)\u001b[49m\n\u001b[1;32m    103\u001b[0m loaded_model \u001b[38;5;241m=\u001b[39m Model(inputs\u001b[38;5;241m=\u001b[39minputs, outputs\u001b[38;5;241m=\u001b[39mx)\n\u001b[1;32m    105\u001b[0m \u001b[38;5;66;03m# Load saved weights\u001b[39;00m\n",
      "File \u001b[0;32m~/env_pytorch/lib/python3.11/site-packages/tensorflow_probability/python/layers/distribution_layer.py:221\u001b[0m, in \u001b[0;36mDistributionLambda.__call__\u001b[0;34m(self, inputs, *args, **kwargs)\u001b[0m\n\u001b[1;32m    219\u001b[0m \u001b[38;5;28;01mdef\u001b[39;00m \u001b[38;5;21m__call__\u001b[39m(\u001b[38;5;28mself\u001b[39m, inputs, \u001b[38;5;241m*\u001b[39margs, \u001b[38;5;241m*\u001b[39m\u001b[38;5;241m*\u001b[39mkwargs):\n\u001b[1;32m    220\u001b[0m   \u001b[38;5;28mself\u001b[39m\u001b[38;5;241m.\u001b[39m_enter_dunder_call \u001b[38;5;241m=\u001b[39m \u001b[38;5;28;01mTrue\u001b[39;00m\n\u001b[0;32m--> 221\u001b[0m   distribution, _ \u001b[38;5;241m=\u001b[39m \u001b[38;5;28;43msuper\u001b[39;49m\u001b[43m(\u001b[49m\u001b[43mDistributionLambda\u001b[49m\u001b[43m,\u001b[49m\u001b[43m \u001b[49m\u001b[38;5;28;43mself\u001b[39;49m\u001b[43m)\u001b[49m\u001b[38;5;241;43m.\u001b[39;49m\u001b[38;5;21;43m__call__\u001b[39;49m\u001b[43m(\u001b[49m\n\u001b[1;32m    222\u001b[0m \u001b[43m      \u001b[49m\u001b[43minputs\u001b[49m\u001b[43m,\u001b[49m\u001b[43m \u001b[49m\u001b[38;5;241;43m*\u001b[39;49m\u001b[43margs\u001b[49m\u001b[43m,\u001b[49m\u001b[43m \u001b[49m\u001b[38;5;241;43m*\u001b[39;49m\u001b[38;5;241;43m*\u001b[39;49m\u001b[43mkwargs\u001b[49m\u001b[43m)\u001b[49m\n\u001b[1;32m    223\u001b[0m   \u001b[38;5;28mself\u001b[39m\u001b[38;5;241m.\u001b[39m_enter_dunder_call \u001b[38;5;241m=\u001b[39m \u001b[38;5;28;01mFalse\u001b[39;00m\n\u001b[1;32m    224\u001b[0m   \u001b[38;5;28;01mreturn\u001b[39;00m distribution\n",
      "File \u001b[0;32m~/env_pytorch/lib/python3.11/site-packages/tf_keras/src/utils/traceback_utils.py:70\u001b[0m, in \u001b[0;36mfilter_traceback.<locals>.error_handler\u001b[0;34m(*args, **kwargs)\u001b[0m\n\u001b[1;32m     67\u001b[0m     filtered_tb \u001b[38;5;241m=\u001b[39m _process_traceback_frames(e\u001b[38;5;241m.\u001b[39m__traceback__)\n\u001b[1;32m     68\u001b[0m     \u001b[38;5;66;03m# To get the full stack trace, call:\u001b[39;00m\n\u001b[1;32m     69\u001b[0m     \u001b[38;5;66;03m# `tf.debugging.disable_traceback_filtering()`\u001b[39;00m\n\u001b[0;32m---> 70\u001b[0m     \u001b[38;5;28;01mraise\u001b[39;00m e\u001b[38;5;241m.\u001b[39mwith_traceback(filtered_tb) \u001b[38;5;28;01mfrom\u001b[39;00m \u001b[38;5;28;01mNone\u001b[39;00m\n\u001b[1;32m     71\u001b[0m \u001b[38;5;28;01mfinally\u001b[39;00m:\n\u001b[1;32m     72\u001b[0m     \u001b[38;5;28;01mdel\u001b[39;00m filtered_tb\n",
      "File \u001b[0;32m~/env_pytorch/lib/python3.11/site-packages/tensorflow_probability/python/layers/distribution_layer.py:227\u001b[0m, in \u001b[0;36mDistributionLambda.call\u001b[0;34m(self, inputs, *args, **kwargs)\u001b[0m\n\u001b[1;32m    226\u001b[0m \u001b[38;5;28;01mdef\u001b[39;00m \u001b[38;5;21mcall\u001b[39m(\u001b[38;5;28mself\u001b[39m, inputs, \u001b[38;5;241m*\u001b[39margs, \u001b[38;5;241m*\u001b[39m\u001b[38;5;241m*\u001b[39mkwargs):\n\u001b[0;32m--> 227\u001b[0m   distribution, value \u001b[38;5;241m=\u001b[39m \u001b[38;5;28;43msuper\u001b[39;49m\u001b[43m(\u001b[49m\u001b[43mDistributionLambda\u001b[49m\u001b[43m,\u001b[49m\u001b[43m \u001b[49m\u001b[38;5;28;43mself\u001b[39;49m\u001b[43m)\u001b[49m\u001b[38;5;241;43m.\u001b[39;49m\u001b[43mcall\u001b[49m\u001b[43m(\u001b[49m\n\u001b[1;32m    228\u001b[0m \u001b[43m      \u001b[49m\u001b[43minputs\u001b[49m\u001b[43m,\u001b[49m\u001b[43m \u001b[49m\u001b[38;5;241;43m*\u001b[39;49m\u001b[43margs\u001b[49m\u001b[43m,\u001b[49m\u001b[43m \u001b[49m\u001b[38;5;241;43m*\u001b[39;49m\u001b[38;5;241;43m*\u001b[39;49m\u001b[43mkwargs\u001b[49m\u001b[43m)\u001b[49m\n\u001b[1;32m    229\u001b[0m   \u001b[38;5;66;03m# We always save the most recently built distribution variables for tracking\u001b[39;00m\n\u001b[1;32m    230\u001b[0m   \u001b[38;5;66;03m# purposes.\u001b[39;00m\n\u001b[1;32m    231\u001b[0m   \u001b[38;5;28mself\u001b[39m\u001b[38;5;241m.\u001b[39m_most_recently_built_distribution_vars \u001b[38;5;241m=\u001b[39m distribution\u001b[38;5;241m.\u001b[39mvariables\n",
      "File \u001b[0;32m~/env_pytorch/lib/python3.11/site-packages/tensorflow_probability/python/layers/distribution_layer.py:167\u001b[0m, in \u001b[0;36mDistributionLambda.__init__.<locals>._fn\u001b[0;34m(*fargs, **fkwargs)\u001b[0m\n\u001b[1;32m    165\u001b[0m \u001b[38;5;28;01mdef\u001b[39;00m \u001b[38;5;21m_fn\u001b[39m(\u001b[38;5;241m*\u001b[39mfargs, \u001b[38;5;241m*\u001b[39m\u001b[38;5;241m*\u001b[39mfkwargs):\n\u001b[1;32m    166\u001b[0m \u001b[38;5;250m  \u001b[39m\u001b[38;5;124;03m\"\"\"Wraps `make_distribution_fn` to return both dist and concrete value.\"\"\"\u001b[39;00m\n\u001b[0;32m--> 167\u001b[0m   d \u001b[38;5;241m=\u001b[39m \u001b[43mmake_distribution_fn\u001b[49m\u001b[43m(\u001b[49m\u001b[38;5;241;43m*\u001b[39;49m\u001b[43mfargs\u001b[49m\u001b[43m,\u001b[49m\u001b[43m \u001b[49m\u001b[38;5;241;43m*\u001b[39;49m\u001b[38;5;241;43m*\u001b[39;49m\u001b[43mfkwargs\u001b[49m\u001b[43m)\u001b[49m\n\u001b[1;32m    168\u001b[0m   value_is_seq \u001b[38;5;241m=\u001b[39m \u001b[38;5;28misinstance\u001b[39m(d\u001b[38;5;241m.\u001b[39mdtype, collections\u001b[38;5;241m.\u001b[39mabc\u001b[38;5;241m.\u001b[39mSequence)\n\u001b[1;32m    169\u001b[0m   maybe_composite_convert_to_tensor_fn \u001b[38;5;241m=\u001b[39m (\n\u001b[1;32m    170\u001b[0m       (\u001b[38;5;28;01mlambda\u001b[39;00m d: tensor_tuple\u001b[38;5;241m.\u001b[39mTensorTuple(convert_to_tensor_fn(d)))\n\u001b[1;32m    171\u001b[0m       \u001b[38;5;28;01mif\u001b[39;00m value_is_seq \u001b[38;5;28;01melse\u001b[39;00m convert_to_tensor_fn)\n",
      "File \u001b[0;32m~/Library/CloudStorage/Dropbox/doutorado/IllustrisTNG-3/github/CentralGalaxiesTNG300_paperIII/NNgauss.py:100\u001b[0m, in \u001b[0;36mNNgauss.get_model.<locals>.<lambda>\u001b[0;34m(t)\u001b[0m\n\u001b[1;32m     93\u001b[0m     x \u001b[38;5;241m=\u001b[39m tf\u001b[38;5;241m.\u001b[39mkeras\u001b[38;5;241m.\u001b[39mlayers\u001b[38;5;241m.\u001b[39mDense(hidden_units[nl],\n\u001b[1;32m     94\u001b[0m                               activation\u001b[38;5;241m=\u001b[39m\u001b[38;5;124m'\u001b[39m\u001b[38;5;124mrelu\u001b[39m\u001b[38;5;124m'\u001b[39m,\n\u001b[1;32m     95\u001b[0m                               kernel_regularizer\u001b[38;5;241m=\u001b[39mtf\u001b[38;5;241m.\u001b[39mkeras\u001b[38;5;241m.\u001b[39mregularizers\u001b[38;5;241m.\u001b[39mL2(l2\u001b[38;5;241m=\u001b[39mhidden_l2[nl]))(x)\n\u001b[1;32m     97\u001b[0m x \u001b[38;5;241m=\u001b[39m Dense(tfpl\u001b[38;5;241m.\u001b[39mMultivariateNormalTriL\u001b[38;5;241m.\u001b[39mparams_size(\u001b[38;5;28mint\u001b[39m(\u001b[38;5;28mself\u001b[39m\u001b[38;5;241m.\u001b[39mNdims)))(x)\n\u001b[1;32m     98\u001b[0m x \u001b[38;5;241m=\u001b[39m tfp\u001b[38;5;241m.\u001b[39mlayers\u001b[38;5;241m.\u001b[39mDistributionLambda(\u001b[38;5;28;01mlambda\u001b[39;00m t:\n\u001b[1;32m     99\u001b[0m                                   tfd\u001b[38;5;241m.\u001b[39mMultivariateNormalTriL(loc\u001b[38;5;241m=\u001b[39mt[\u001b[38;5;241m.\u001b[39m\u001b[38;5;241m.\u001b[39m\u001b[38;5;241m.\u001b[39m, :\u001b[38;5;28mint\u001b[39m(\u001b[38;5;28mself\u001b[39m\u001b[38;5;241m.\u001b[39mNdims)],\n\u001b[0;32m--> 100\u001b[0m                                                              scale_tril\u001b[38;5;241m=\u001b[39m\u001b[43mtfp\u001b[49m\u001b[38;5;241;43m.\u001b[39;49m\u001b[43mmath\u001b[49m\u001b[38;5;241;43m.\u001b[39;49m\u001b[43mfill_triangular\u001b[49m\u001b[43m(\u001b[49m\u001b[43mt\u001b[49m\u001b[43m[\u001b[49m\u001b[38;5;241;43m.\u001b[39;49m\u001b[38;5;241;43m.\u001b[39;49m\u001b[38;5;241;43m.\u001b[39;49m\u001b[43m,\u001b[49m\n\u001b[1;32m    101\u001b[0m \u001b[43m                                                                                                 \u001b[49m\u001b[38;5;28;43mint\u001b[39;49m\u001b[43m(\u001b[49m\u001b[38;5;28;43mself\u001b[39;49m\u001b[38;5;241;43m.\u001b[39;49m\u001b[43mNdims\u001b[49m\u001b[43m)\u001b[49m\u001b[43m:\u001b[49m\u001b[43m]\u001b[49m\u001b[43m)\u001b[49m))(x)\n\u001b[1;32m    103\u001b[0m loaded_model \u001b[38;5;241m=\u001b[39m Model(inputs\u001b[38;5;241m=\u001b[39minputs, outputs\u001b[38;5;241m=\u001b[39mx)\n\u001b[1;32m    105\u001b[0m \u001b[38;5;66;03m# Load saved weights\u001b[39;00m\n",
      "File \u001b[0;32m~/env_pytorch/lib/python3.11/site-packages/tensorflow_probability/python/math/linalg.py:1014\u001b[0m, in \u001b[0;36mfill_triangular\u001b[0;34m(x, upper, name)\u001b[0m\n\u001b[1;32m    926\u001b[0m \u001b[38;5;250m\u001b[39m\u001b[38;5;124;03m\"\"\"Creates a (batch of) triangular matrix from a vector of inputs.\u001b[39;00m\n\u001b[1;32m    927\u001b[0m \n\u001b[1;32m    928\u001b[0m \u001b[38;5;124;03mCreated matrix can be lower- or upper-triangular. (It is more efficient to\u001b[39;00m\n\u001b[0;32m   (...)\u001b[0m\n\u001b[1;32m   1010\u001b[0m \u001b[38;5;124;03m  ValueError: if `x` cannot be mapped to a triangular matrix.\u001b[39;00m\n\u001b[1;32m   1011\u001b[0m \u001b[38;5;124;03m\"\"\"\u001b[39;00m\n\u001b[1;32m   1013\u001b[0m \u001b[38;5;28;01mwith\u001b[39;00m tf\u001b[38;5;241m.\u001b[39mname_scope(name \u001b[38;5;129;01mor\u001b[39;00m \u001b[38;5;124m'\u001b[39m\u001b[38;5;124mfill_triangular\u001b[39m\u001b[38;5;124m'\u001b[39m):\n\u001b[0;32m-> 1014\u001b[0m   x \u001b[38;5;241m=\u001b[39m \u001b[43mtf\u001b[49m\u001b[38;5;241;43m.\u001b[39;49m\u001b[43mconvert_to_tensor\u001b[49m\u001b[43m(\u001b[49m\u001b[43mx\u001b[49m\u001b[43m,\u001b[49m\u001b[43m \u001b[49m\u001b[43mname\u001b[49m\u001b[38;5;241;43m=\u001b[39;49m\u001b[38;5;124;43m'\u001b[39;49m\u001b[38;5;124;43mx\u001b[39;49m\u001b[38;5;124;43m'\u001b[39;49m\u001b[43m)\u001b[49m\n\u001b[1;32m   1015\u001b[0m   m \u001b[38;5;241m=\u001b[39m tf\u001b[38;5;241m.\u001b[39mcompat\u001b[38;5;241m.\u001b[39mdimension_value(\n\u001b[1;32m   1016\u001b[0m       tensorshape_util\u001b[38;5;241m.\u001b[39mwith_rank_at_least(x\u001b[38;5;241m.\u001b[39mshape, \u001b[38;5;241m1\u001b[39m)[\u001b[38;5;241m-\u001b[39m\u001b[38;5;241m1\u001b[39m])\n\u001b[1;32m   1017\u001b[0m   \u001b[38;5;28;01mif\u001b[39;00m m \u001b[38;5;129;01mis\u001b[39;00m \u001b[38;5;129;01mnot\u001b[39;00m \u001b[38;5;28;01mNone\u001b[39;00m:\n\u001b[1;32m   1018\u001b[0m     \u001b[38;5;66;03m# Formula derived by solving for n: m = n(n+1)/2.\u001b[39;00m\n",
      "File \u001b[0;32m~/env_pytorch/lib/python3.11/site-packages/keras/src/backend/common/keras_tensor.py:138\u001b[0m, in \u001b[0;36mKerasTensor.__tf_tensor__\u001b[0;34m(self, dtype, name)\u001b[0m\n\u001b[1;32m    137\u001b[0m \u001b[38;5;28;01mdef\u001b[39;00m \u001b[38;5;21m__tf_tensor__\u001b[39m(\u001b[38;5;28mself\u001b[39m, dtype\u001b[38;5;241m=\u001b[39m\u001b[38;5;28;01mNone\u001b[39;00m, name\u001b[38;5;241m=\u001b[39m\u001b[38;5;28;01mNone\u001b[39;00m):\n\u001b[0;32m--> 138\u001b[0m     \u001b[38;5;28;01mraise\u001b[39;00m \u001b[38;5;167;01mValueError\u001b[39;00m(\n\u001b[1;32m    139\u001b[0m         \u001b[38;5;124m\"\u001b[39m\u001b[38;5;124mA KerasTensor cannot be used as input to a TensorFlow function. \u001b[39m\u001b[38;5;124m\"\u001b[39m\n\u001b[1;32m    140\u001b[0m         \u001b[38;5;124m\"\u001b[39m\u001b[38;5;124mA KerasTensor is a symbolic placeholder for a shape and dtype, \u001b[39m\u001b[38;5;124m\"\u001b[39m\n\u001b[1;32m    141\u001b[0m         \u001b[38;5;124m\"\u001b[39m\u001b[38;5;124mused when constructing Keras Functional models \u001b[39m\u001b[38;5;124m\"\u001b[39m\n\u001b[1;32m    142\u001b[0m         \u001b[38;5;124m\"\u001b[39m\u001b[38;5;124mor Keras Functions. You can only use it as input to a Keras layer \u001b[39m\u001b[38;5;124m\"\u001b[39m\n\u001b[1;32m    143\u001b[0m         \u001b[38;5;124m\"\u001b[39m\u001b[38;5;124mor a Keras operation (from the namespaces `keras.layers` \u001b[39m\u001b[38;5;124m\"\u001b[39m\n\u001b[1;32m    144\u001b[0m         \u001b[38;5;124m\"\u001b[39m\u001b[38;5;124mand `keras.operations`). \u001b[39m\u001b[38;5;124m\"\u001b[39m\n\u001b[1;32m    145\u001b[0m         \u001b[38;5;124m\"\u001b[39m\u001b[38;5;124mYou are likely doing something like:\u001b[39m\u001b[38;5;130;01m\\n\u001b[39;00m\u001b[38;5;130;01m\\n\u001b[39;00m\u001b[38;5;124m\"\u001b[39m\n\u001b[1;32m    146\u001b[0m         \u001b[38;5;124m\"\u001b[39m\u001b[38;5;124m```\u001b[39m\u001b[38;5;130;01m\\n\u001b[39;00m\u001b[38;5;124m\"\u001b[39m\n\u001b[1;32m    147\u001b[0m         \u001b[38;5;124m\"\u001b[39m\u001b[38;5;124mx = Input(...)\u001b[39m\u001b[38;5;130;01m\\n\u001b[39;00m\u001b[38;5;124m\"\u001b[39m\n\u001b[1;32m    148\u001b[0m         \u001b[38;5;124m\"\u001b[39m\u001b[38;5;124m...\u001b[39m\u001b[38;5;130;01m\\n\u001b[39;00m\u001b[38;5;124m\"\u001b[39m\n\u001b[1;32m    149\u001b[0m         \u001b[38;5;124m\"\u001b[39m\u001b[38;5;124mtf_fn(x)  # Invalid.\u001b[39m\u001b[38;5;130;01m\\n\u001b[39;00m\u001b[38;5;124m\"\u001b[39m\n\u001b[1;32m    150\u001b[0m         \u001b[38;5;124m\"\u001b[39m\u001b[38;5;124m```\u001b[39m\u001b[38;5;130;01m\\n\u001b[39;00m\u001b[38;5;130;01m\\n\u001b[39;00m\u001b[38;5;124m\"\u001b[39m\n\u001b[1;32m    151\u001b[0m         \u001b[38;5;124m\"\u001b[39m\u001b[38;5;124mWhat you should do instead is wrap `tf_fn` in a layer:\u001b[39m\u001b[38;5;130;01m\\n\u001b[39;00m\u001b[38;5;130;01m\\n\u001b[39;00m\u001b[38;5;124m\"\u001b[39m\n\u001b[1;32m    152\u001b[0m         \u001b[38;5;124m\"\u001b[39m\u001b[38;5;124m```\u001b[39m\u001b[38;5;130;01m\\n\u001b[39;00m\u001b[38;5;124m\"\u001b[39m\n\u001b[1;32m    153\u001b[0m         \u001b[38;5;124m\"\u001b[39m\u001b[38;5;124mclass MyLayer(Layer):\u001b[39m\u001b[38;5;130;01m\\n\u001b[39;00m\u001b[38;5;124m\"\u001b[39m\n\u001b[1;32m    154\u001b[0m         \u001b[38;5;124m\"\u001b[39m\u001b[38;5;124m    def call(self, x):\u001b[39m\u001b[38;5;130;01m\\n\u001b[39;00m\u001b[38;5;124m\"\u001b[39m\n\u001b[1;32m    155\u001b[0m         \u001b[38;5;124m\"\u001b[39m\u001b[38;5;124m        return tf_fn(x)\u001b[39m\u001b[38;5;130;01m\\n\u001b[39;00m\u001b[38;5;130;01m\\n\u001b[39;00m\u001b[38;5;124m\"\u001b[39m\n\u001b[1;32m    156\u001b[0m         \u001b[38;5;124m\"\u001b[39m\u001b[38;5;124mx = MyLayer()(x)\u001b[39m\u001b[38;5;130;01m\\n\u001b[39;00m\u001b[38;5;124m\"\u001b[39m\n\u001b[1;32m    157\u001b[0m         \u001b[38;5;124m\"\u001b[39m\u001b[38;5;124m```\u001b[39m\u001b[38;5;130;01m\\n\u001b[39;00m\u001b[38;5;124m\"\u001b[39m\n\u001b[1;32m    158\u001b[0m     )\n",
      "\u001b[0;31mValueError\u001b[0m: Exception encountered when calling layer 'distribution_lambda' (type DistributionLambda).\n\nA KerasTensor cannot be used as input to a TensorFlow function. A KerasTensor is a symbolic placeholder for a shape and dtype, used when constructing Keras Functional models or Keras Functions. You can only use it as input to a Keras layer or a Keras operation (from the namespaces `keras.layers` and `keras.operations`). You are likely doing something like:\n\n```\nx = Input(...)\n...\ntf_fn(x)  # Invalid.\n```\n\nWhat you should do instead is wrap `tf_fn` in a layer:\n\n```\nclass MyLayer(Layer):\n    def call(self, x):\n        return tf_fn(x)\n\nx = MyLayer()(x)\n```\n\n\nCall arguments received by layer 'distribution_lambda' (type DistributionLambda):\n  • inputs=<KerasTensor shape=(None, 14), dtype=float32, sparse=False, name=keras_tensor_6>\n  • args=<class 'inspect._empty'>\n  • kwargs={'training': 'None'}"
     ]
    }
   ],
   "source": [
    "nngauss_pred = nngauss.get_sample(input_data, n_samples = 10)"
   ]
  },
  {
   "cell_type": "code",
   "execution_count": 17,
   "id": "d73b5ae4-18a8-4d70-84d6-08eee10fc612",
   "metadata": {},
   "outputs": [
    {
     "name": "stdout",
     "output_type": "stream",
     "text": [
      "# instance: 0\n"
     ]
    },
    {
     "name": "stderr",
     "output_type": "stream",
     "text": [
      "/Users/natalidesanti/env_pytorch/lib/python3.11/site-packages/sklearn/base.py:348: InconsistentVersionWarning: Trying to unpickle estimator MinMaxScaler from version 1.2.2 when using version 1.3.2. This might lead to breaking code or invalid results. Use at your own risk. For more info please refer to:\n",
      "https://scikit-learn.org/stable/model_persistence.html#security-maintainability-limitations\n",
      "  warnings.warn(\n"
     ]
    }
   ],
   "source": [
    "nf_pred = nf.get_sample(input_data, n_samples = 10)"
   ]
  },
  {
   "cell_type": "code",
   "execution_count": 8,
   "id": "11246235-4a3e-46d0-9846-69dd638cd81f",
   "metadata": {},
   "outputs": [
    {
     "data": {
      "text/plain": [
       "(10, 10, 4)"
      ]
     },
     "execution_count": 8,
     "metadata": {},
     "output_type": "execute_result"
    }
   ],
   "source": [
    "nf_pred.shape#, nngauss_pred.shape"
   ]
  },
  {
   "cell_type": "markdown",
   "id": "9096e6c9-898a-4683-9366-4b3795624359",
   "metadata": {},
   "source": [
    "## Linear comparison"
   ]
  },
  {
   "cell_type": "markdown",
   "id": "5e0a1fac-e4e3-4460-8cc7-cd2e516d3fec",
   "metadata": {},
   "source": [
    "### Stellar Mass"
   ]
  },
  {
   "cell_type": "code",
   "execution_count": 18,
   "id": "10edb091-eb8c-43ef-b3e6-8111b244f1ef",
   "metadata": {},
   "outputs": [
    {
     "data": {
      "text/plain": [
       "Text(0.5, 0, 'True')"
      ]
     },
     "execution_count": 18,
     "metadata": {},
     "output_type": "execute_result"
    },
    {
     "data": {
      "image/png": "[encoded data removed]",
      "text/plain": [
       "<Figure size 500x500 with 1 Axes>"
      ]
     },
     "metadata": {},
     "output_type": "display_data"
    }
   ],
   "source": [
    "nf_smass = nf_pred[0, :, 0]\n",
    "#nngauss_smass = nngauss_pred[0, :, 0]\n",
    "\n",
    "plt.figure(dpi = 100, figsize = (5, 5))\n",
    "\n",
    "plt.plot(dataset['smass'], dataset['smass'], color = 'black')\n",
    "\n",
    "# plt.scatter(nngauss_smass, dataset['smass'],\n",
    "#             color = nngauss.color, label = nngauss.label, marker = nngauss.marker,\n",
    "#             alpha = 0.5)\n",
    "\n",
    "plt.scatter(nf_smass, dataset['smass'],\n",
    "            color = nf.color, label = nf.label, marker = nf.marker,\n",
    "            alpha = 0.5)\n",
    "\n",
    "plt.legend()\n",
    "plt.ylabel('Predicted')\n",
    "plt.xlabel('True')"
   ]
  },
  {
   "cell_type": "code",
   "execution_count": null,
   "id": "95d1aa4d-baab-4381-ba54-1f2216426788",
   "metadata": {},
   "outputs": [],
   "source": []
  }
 ],
 "metadata": {
  "kernelspec": {
   "display_name": "env_pytorch",
   "language": "python",
   "name": "env_pytorch"
  },
  "language_info": {
   "codemirror_mode": {
    "name": "ipython",
    "version": 3
   },
   "file_extension": ".py",
   "mimetype": "text/x-python",
   "name": "python",
   "nbconvert_exporter": "python",
   "pygments_lexer": "ipython3",
   "version": "3.11.4"
  }
 },
 "nbformat": 4,
 "nbformat_minor": 5
}
