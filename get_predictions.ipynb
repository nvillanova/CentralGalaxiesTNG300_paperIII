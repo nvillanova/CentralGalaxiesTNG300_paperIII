{
 "cells": [
  {
   "cell_type": "markdown",
   "id": "1d691f3e-bba4-4ac6-9efe-9ec46d0ee42b",
   "metadata": {},
   "source": [
    "# Getting predicions\n",
    "\n",
    "This notebook load the models and apply them on a sample of 10 instances from the 'subtest_tng300.csv' file.\n",
    "\n",
    "\n",
    "The input data must be sorted according to: Virial mass, Concentration, Spin, Age, Overdensity,\n",
    "\n",
    "as a pandas.DataFrame with columns named as: `[M_h, C_h, S_h, z_h, Delta3_h]`."
   ]
  },
  {
   "cell_type": "markdown",
   "id": "cccc7269-c03e-447d-9aa0-844d663ed7ed",
   "metadata": {},
   "source": [
    "## Importing the libraries"
   ]
  },
  {
   "cell_type": "code",
   "execution_count": 2,
   "id": "944d1181-5bb2-4ac4-9bc7-30d27debf0eb",
   "metadata": {},
   "outputs": [
    {
     "name": "stdout",
     "output_type": "stream",
     "text": [
      "GPU is available and will be used by PyTorch.\n"
     ]
    },
    {
     "name": "stderr",
     "output_type": "stream",
     "text": [
      "2024-10-21 14:13:35.967991: I tensorflow/core/util/port.cc:153] oneDNN custom operations are on. You may see slightly different numerical results due to floating-point round-off errors from different computation orders. To turn them off, set the environment variable `TF_ENABLE_ONEDNN_OPTS=0`.\n",
      "2024-10-21 14:13:35.974654: E external/local_xla/xla/stream_executor/cuda/cuda_fft.cc:485] Unable to register cuFFT factory: Attempting to register factory for plugin cuFFT when one has already been registered\n",
      "2024-10-21 14:13:35.982324: E external/local_xla/xla/stream_executor/cuda/cuda_dnn.cc:8454] Unable to register cuDNN factory: Attempting to register factory for plugin cuDNN when one has already been registered\n",
      "2024-10-21 14:13:35.984697: E external/local_xla/xla/stream_executor/cuda/cuda_blas.cc:1452] Unable to register cuBLAS factory: Attempting to register factory for plugin cuBLAS when one has already been registered\n",
      "2024-10-21 14:13:35.991049: I tensorflow/core/platform/cpu_feature_guard.cc:210] This TensorFlow binary is optimized to use available CPU instructions in performance-critical operations.\n",
      "To enable the following instructions: AVX2 AVX_VNNI FMA, in other operations, rebuild TensorFlow with the appropriate compiler flags.\n",
      "2024-10-21 14:13:36.387038: W tensorflow/compiler/tf2tensorrt/utils/py_utils.cc:38] TF-TRT Warning: Could not find TensorRT\n"
     ]
    }
   ],
   "source": [
    "from NF import NF\n",
    "from NNgauss import NNgauss\n",
    "#from NNclass import NNclass\n",
    "\n",
    "import pandas as pd\n",
    "import matplotlib.pyplot as plt\n",
    "\n",
    "import warnings"
   ]
  },
  {
   "cell_type": "code",
   "execution_count": null,
   "id": "ca994062-778e-42c5-98b4-0d0827f0b1e8",
   "metadata": {},
   "outputs": [],
   "source": [
    "warnings.filterwarnings('ignore')"
   ]
  },
  {
   "cell_type": "markdown",
   "id": "5b8289e8-00f7-4980-a491-5ab359712e6d",
   "metadata": {},
   "source": [
    "## Loading data"
   ]
  },
  {
   "cell_type": "code",
   "execution_count": 2,
   "id": "ce3ac39e-3321-496d-a032-e2e4d5673efc",
   "metadata": {},
   "outputs": [],
   "source": [
    "dataset = pd.read_csv('data/subtest_tng300.csv')"
   ]
  },
  {
   "cell_type": "code",
   "execution_count": 3,
   "id": "51fde7f7-f166-4685-b1e1-e0dfa33255c4",
   "metadata": {},
   "outputs": [
    {
     "data": {
      "text/html": [
       "<div>\n",
       "<style scoped>\n",
       "    .dataframe tbody tr th:only-of-type {\n",
       "        vertical-align: middle;\n",
       "    }\n",
       "\n",
       "    .dataframe tbody tr th {\n",
       "        vertical-align: top;\n",
       "    }\n",
       "\n",
       "    .dataframe thead th {\n",
       "        text-align: right;\n",
       "    }\n",
       "</style>\n",
       "<table border=\"1\" class=\"dataframe\">\n",
       "  <thead>\n",
       "    <tr style=\"text-align: right;\">\n",
       "      <th></th>\n",
       "      <th>ID</th>\n",
       "      <th>X_h</th>\n",
       "      <th>Y_h</th>\n",
       "      <th>Z_h</th>\n",
       "      <th>M_h</th>\n",
       "      <th>C_h</th>\n",
       "      <th>S_h</th>\n",
       "      <th>z_h</th>\n",
       "      <th>Delta3_h</th>\n",
       "      <th>x_g</th>\n",
       "      <th>y_g</th>\n",
       "      <th>z_g</th>\n",
       "      <th>smass</th>\n",
       "      <th>color</th>\n",
       "      <th>radius</th>\n",
       "      <th>sSFR</th>\n",
       "    </tr>\n",
       "  </thead>\n",
       "  <tbody>\n",
       "    <tr>\n",
       "      <th>0</th>\n",
       "      <td>148942.0</td>\n",
       "      <td>37.155465</td>\n",
       "      <td>83.731352</td>\n",
       "      <td>156.890562</td>\n",
       "      <td>11.230634</td>\n",
       "      <td>0.949239</td>\n",
       "      <td>0.102213</td>\n",
       "      <td>0.909091</td>\n",
       "      <td>9.760820</td>\n",
       "      <td>37.155464</td>\n",
       "      <td>83.731354</td>\n",
       "      <td>156.890564</td>\n",
       "      <td>9.020804</td>\n",
       "      <td>0.441576</td>\n",
       "      <td>0.428343</td>\n",
       "      <td>-9.636042</td>\n",
       "    </tr>\n",
       "    <tr>\n",
       "      <th>1</th>\n",
       "      <td>143805.0</td>\n",
       "      <td>62.748066</td>\n",
       "      <td>184.040500</td>\n",
       "      <td>188.505172</td>\n",
       "      <td>11.193012</td>\n",
       "      <td>0.978603</td>\n",
       "      <td>0.057343</td>\n",
       "      <td>1.333333</td>\n",
       "      <td>1.123779</td>\n",
       "      <td>62.748066</td>\n",
       "      <td>184.040497</td>\n",
       "      <td>188.505173</td>\n",
       "      <td>8.825384</td>\n",
       "      <td>0.075232</td>\n",
       "      <td>0.266293</td>\n",
       "      <td>-9.731375</td>\n",
       "    </tr>\n",
       "    <tr>\n",
       "      <th>2</th>\n",
       "      <td>37609.0</td>\n",
       "      <td>191.439203</td>\n",
       "      <td>117.276422</td>\n",
       "      <td>130.288531</td>\n",
       "      <td>11.963388</td>\n",
       "      <td>1.061022</td>\n",
       "      <td>0.012275</td>\n",
       "      <td>1.575758</td>\n",
       "      <td>2.584691</td>\n",
       "      <td>191.439209</td>\n",
       "      <td>117.276421</td>\n",
       "      <td>130.288528</td>\n",
       "      <td>10.391277</td>\n",
       "      <td>1.130091</td>\n",
       "      <td>0.482415</td>\n",
       "      <td>-12.301883</td>\n",
       "    </tr>\n",
       "    <tr>\n",
       "      <th>3</th>\n",
       "      <td>48567.0</td>\n",
       "      <td>76.807563</td>\n",
       "      <td>143.693719</td>\n",
       "      <td>179.001844</td>\n",
       "      <td>11.788298</td>\n",
       "      <td>1.047671</td>\n",
       "      <td>0.069209</td>\n",
       "      <td>1.818182</td>\n",
       "      <td>0.915077</td>\n",
       "      <td>76.807564</td>\n",
       "      <td>143.693726</td>\n",
       "      <td>179.001846</td>\n",
       "      <td>10.166031</td>\n",
       "      <td>0.910177</td>\n",
       "      <td>0.774072</td>\n",
       "      <td>-11.408447</td>\n",
       "    </tr>\n",
       "    <tr>\n",
       "      <th>4</th>\n",
       "      <td>92208.0</td>\n",
       "      <td>177.415203</td>\n",
       "      <td>11.204672</td>\n",
       "      <td>30.818141</td>\n",
       "      <td>11.464064</td>\n",
       "      <td>1.117278</td>\n",
       "      <td>0.067701</td>\n",
       "      <td>2.242424</td>\n",
       "      <td>1.284318</td>\n",
       "      <td>177.415207</td>\n",
       "      <td>11.204672</td>\n",
       "      <td>30.818140</td>\n",
       "      <td>9.647124</td>\n",
       "      <td>1.016806</td>\n",
       "      <td>0.679863</td>\n",
       "      <td>-10.740095</td>\n",
       "    </tr>\n",
       "  </tbody>\n",
       "</table>\n",
       "</div>"
      ],
      "text/plain": [
       "         ID         X_h         Y_h         Z_h        M_h       C_h  \\\n",
       "0  148942.0   37.155465   83.731352  156.890562  11.230634  0.949239   \n",
       "1  143805.0   62.748066  184.040500  188.505172  11.193012  0.978603   \n",
       "2   37609.0  191.439203  117.276422  130.288531  11.963388  1.061022   \n",
       "3   48567.0   76.807563  143.693719  179.001844  11.788298  1.047671   \n",
       "4   92208.0  177.415203   11.204672   30.818141  11.464064  1.117278   \n",
       "\n",
       "        S_h       z_h  Delta3_h         x_g         y_g         z_g  \\\n",
       "0  0.102213  0.909091  9.760820   37.155464   83.731354  156.890564   \n",
       "1  0.057343  1.333333  1.123779   62.748066  184.040497  188.505173   \n",
       "2  0.012275  1.575758  2.584691  191.439209  117.276421  130.288528   \n",
       "3  0.069209  1.818182  0.915077   76.807564  143.693726  179.001846   \n",
       "4  0.067701  2.242424  1.284318  177.415207   11.204672   30.818140   \n",
       "\n",
       "       smass     color    radius       sSFR  \n",
       "0   9.020804  0.441576  0.428343  -9.636042  \n",
       "1   8.825384  0.075232  0.266293  -9.731375  \n",
       "2  10.391277  1.130091  0.482415 -12.301883  \n",
       "3  10.166031  0.910177  0.774072 -11.408447  \n",
       "4   9.647124  1.016806  0.679863 -10.740095  "
      ]
     },
     "execution_count": 3,
     "metadata": {},
     "output_type": "execute_result"
    }
   ],
   "source": [
    "dataset.head()"
   ]
  },
  {
   "cell_type": "markdown",
   "id": "357cf2d8-91e6-4776-9457-338c28ff1ae0",
   "metadata": {},
   "source": [
    "## Selecting data"
   ]
  },
  {
   "cell_type": "code",
   "execution_count": 4,
   "id": "1740a189-83f9-43cb-8f65-0c7c8a1c828e",
   "metadata": {},
   "outputs": [],
   "source": [
    "# Properties\n",
    "target_props = ['smass', 'color', 'sSFR', 'radius']\n",
    "input_props = ['M_h', 'C_h', 'S_h', 'z_h', 'Delta3_h']\n",
    "\n",
    "input_data = dataset[input_props].to_numpy()"
   ]
  },
  {
   "cell_type": "markdown",
   "id": "bcc79754-8b8c-45a3-9813-b9a4bc8b7219",
   "metadata": {},
   "source": [
    "## Loading the models"
   ]
  },
  {
   "cell_type": "code",
   "execution_count": 5,
   "id": "47bd9a40-f11e-4180-907b-38079efd2f76",
   "metadata": {},
   "outputs": [],
   "source": [
    "nngauss = NNgauss(target_props, trial=45)\n",
    "nf = NF(target_props, trial=99)\n",
    "#nnclass = NNclass(target_props, trial=77)"
   ]
  },
  {
   "cell_type": "markdown",
   "id": "015a7f6e-9001-4880-935b-8a39cfbd05a2",
   "metadata": {},
   "source": [
    "## Getting the predictions\n",
    "\n",
    "The output shape is `(n_samples, n_simulations, n_dimensions)`"
   ]
  },
  {
   "cell_type": "code",
   "execution_count": 6,
   "id": "c8532153-ee95-4bc1-a20a-40ecd0c59d44",
   "metadata": {},
   "outputs": [
    {
     "name": "stderr",
     "output_type": "stream",
     "text": [
      "WARNING: All log messages before absl::InitializeLog() is called are written to STDERR\n",
      "I0000 00:00:1729530777.627589  380354 cuda_executor.cc:1015] successful NUMA node read from SysFS had negative value (-1), but there must be at least one NUMA node, so returning NUMA node zero. See more at https://github.com/torvalds/linux/blob/v6.0/Documentation/ABI/testing/sysfs-bus-pci#L344-L355\n",
      "2024-10-21 14:12:57.631176: W tensorflow/core/common_runtime/gpu/gpu_device.cc:2343] Cannot dlopen some GPU libraries. Please make sure the missing libraries mentioned above are installed properly if you would like to use GPU. Follow the guide at https://www.tensorflow.org/install/gpu for how to download and setup the required libraries for your platform.\n",
      "Skipping registering GPU devices...\n"
     ]
    },
    {
     "name": "stdout",
     "output_type": "stream",
     "text": [
      "\u001b[1m1/1\u001b[0m \u001b[32m━━━━━━━━━━━━━━━━━━━━\u001b[0m\u001b[37m\u001b[0m \u001b[1m0s\u001b[0m 58ms/step\n"
     ]
    }
   ],
   "source": [
    "nngauss_pred = nngauss.get_sample(input_data, n_samples=10)"
   ]
  },
  {
   "cell_type": "code",
   "execution_count": 7,
   "id": "cc61e64a-1be7-4d30-9073-5127424c8bcf",
   "metadata": {},
   "outputs": [
    {
     "name": "stdout",
     "output_type": "stream",
     "text": [
      "# instance: 0\n"
     ]
    }
   ],
   "source": [
    "nf_pred = nf.get_sample(input_data, n_samples=10)"
   ]
  },
  {
   "cell_type": "code",
   "execution_count": 8,
   "id": "47524956-cd9d-432b-8787-07413242e75f",
   "metadata": {},
   "outputs": [],
   "source": [
    "#nnclass_pred = nnclass.get_sample(input_data, 5, 2)"
   ]
  },
  {
   "cell_type": "code",
   "execution_count": 15,
   "id": "11246235-4a3e-46d0-9846-69dd638cd81f",
   "metadata": {},
   "outputs": [
    {
     "data": {
      "text/plain": [
       "((10, 10, 4), (10, 10, 4))"
      ]
     },
     "execution_count": 15,
     "metadata": {},
     "output_type": "execute_result"
    }
   ],
   "source": [
    "nf_pred.shape, nngauss_pred.shape"
   ]
  },
  {
   "cell_type": "markdown",
   "id": "9096e6c9-898a-4683-9366-4b3795624359",
   "metadata": {},
   "source": [
    "## Linear comparison"
   ]
  },
  {
   "cell_type": "code",
   "execution_count": 16,
   "id": "64ba54dc-156c-45ef-8eda-dd947cc94446",
   "metadata": {},
   "outputs": [
    {
     "data": {
      "image/png": "[encoded data removed]",
      "text/plain": [
       "<Figure size 1000x1000 with 4 Axes>"
      ]
     },
     "metadata": {},
     "output_type": "display_data"
    }
   ],
   "source": [
    "fig, axs = plt.subplots(2, 2, figsize=(10, 10), dpi=100)\n",
    "\n",
    "# Stellar Mass\n",
    "nf_smass = nf_pred[0, :, 0]\n",
    "nngauss_smass = nngauss_pred[0, :, 0]\n",
    "\n",
    "axs[0, 0].set_title('Stellar Mass')\n",
    "axs[0, 0].plot(dataset['smass'], dataset['smass'], color='black', ls='--')\n",
    "axs[0, 0].scatter(nngauss_smass, dataset['smass'], color=nngauss.color, label=nngauss.label, marker=nngauss.marker, alpha=0.5)\n",
    "axs[0, 0].scatter(nf_smass, dataset['smass'], color=nf.color, label=nf.label, marker=nf.marker, alpha=0.5)\n",
    "axs[0, 0].legend()\n",
    "axs[0, 0].set_ylabel('Predicted')\n",
    "axs[0, 0].set_xlabel('True')\n",
    "\n",
    "# Color\n",
    "nf_color = nf_pred[0, :, 1]\n",
    "nngauss_color = nngauss_pred[0, :, 1]\n",
    "\n",
    "axs[0, 1].set_title('Color')\n",
    "axs[0, 1].plot(dataset['color'], dataset['color'], color='black', ls='--')\n",
    "axs[0, 1].scatter(nngauss_color, dataset['color'], color=nngauss.color, label=nngauss.label, marker=nngauss.marker, alpha=0.5)\n",
    "axs[0, 1].scatter(nf_color, dataset['color'], color=nf.color, label=nf.label, marker=nf.marker, alpha=0.5)\n",
    "axs[0, 1].set_ylabel('Predicted')\n",
    "axs[0, 1].set_xlabel('True')\n",
    "\n",
    "# sSFR\n",
    "nf_sSFR = nf_pred[0, :, 2]\n",
    "nngauss_sSFR = nngauss_pred[0, :, 2]\n",
    "\n",
    "axs[1, 0].set_title('sSFR')\n",
    "axs[1, 0].plot(dataset['sSFR'], dataset['sSFR'], color='black', ls='--')\n",
    "axs[1, 0].scatter(nngauss_sSFR, dataset['sSFR'], color=nngauss.color, label=nngauss.label, marker=nngauss.marker, alpha=0.5)\n",
    "axs[1, 0].scatter(nf_sSFR, dataset['sSFR'], color=nf.color, label=nf.label, marker=nf.marker, alpha=0.5)\n",
    "axs[1, 0].set_ylabel('Predicted')\n",
    "axs[1, 0].set_xlabel('True')\n",
    "\n",
    "# Radius\n",
    "nf_radius = nf_pred[0, :, 3]\n",
    "nngauss_radius = nngauss_pred[0, :, 3]\n",
    "\n",
    "axs[1, 1].set_title('Radius')\n",
    "axs[1, 1].plot(dataset['radius'], dataset['radius'], color='black', ls='--')\n",
    "axs[1, 1].scatter(nngauss_radius, dataset['radius'], color=nngauss.color, label=nngauss.label, marker=nngauss.marker, alpha=0.5)\n",
    "axs[1, 1].scatter(nf_radius, dataset['radius'], color=nf.color, label=nf.label, marker=nf.marker, alpha=0.5)\n",
    "axs[1, 1].set_ylabel('Predicted')\n",
    "axs[1, 1].set_xlabel('True')\n",
    "\n",
    "plt.savefig('results/linear_comparison.png')"
   ]
  },
  {
   "cell_type": "markdown",
   "id": "8d3b9c2b-feb4-4b5e-8a8c-303f489a3f0e",
   "metadata": {},
   "source": [
    "# Example: missing 'Delta3_h'"
   ]
  },
  {
   "cell_type": "code",
   "execution_count": 23,
   "id": "c2072cc1-2fdb-4529-8fc4-3818565c8a71",
   "metadata": {},
   "outputs": [],
   "source": [
    "from missing_features import check_input_data"
   ]
  },
  {
   "cell_type": "code",
   "execution_count": 25,
   "id": "1c1901d5-ef93-42f0-98ef-ec70c346bdea",
   "metadata": {},
   "outputs": [
    {
     "name": "stdout",
     "output_type": "stream",
     "text": [
      "Missing features: ['Delta3_h']. Generating \"fake\" input features...\n"
     ]
    }
   ],
   "source": [
    "input_props = ['M_h', 'C_h', 'S_h', 'z_h']\n",
    "input_data = dataset[input_props]\n",
    "\n",
    "input_data = check_input_data(input_data)"
   ]
  },
  {
   "cell_type": "code",
   "execution_count": 21,
   "id": "e43540a8-c551-4ab6-97a1-46e1625dc065",
   "metadata": {},
   "outputs": [
    {
     "name": "stdout",
     "output_type": "stream",
     "text": [
      "\u001b[1m1/1\u001b[0m \u001b[32m━━━━━━━━━━━━━━━━━━━━\u001b[0m\u001b[37m\u001b[0m \u001b[1m0s\u001b[0m 29ms/step\n",
      "# instance: 0\n"
     ]
    }
   ],
   "source": [
    "nngauss_pred = nngauss.get_sample(input_data, n_samples=10)\n",
    "nf_pred = nf.get_sample(input_data, n_samples=10)"
   ]
  },
  {
   "cell_type": "code",
   "execution_count": null,
   "id": "a80ac5e5-287f-4b76-986b-60b942606145",
   "metadata": {},
   "outputs": [],
   "source": []
  }
 ],
 "metadata": {
  "kernelspec": {
   "display_name": "Python (update_tf)",
   "language": "python",
   "name": "update_tf"
  },
  "language_info": {
   "codemirror_mode": {
    "name": "ipython",
    "version": 3
   },
   "file_extension": ".py",
   "mimetype": "text/x-python",
   "name": "python",
   "nbconvert_exporter": "python",
   "pygments_lexer": "ipython3",
   "version": "3.11.5"
  }
 },
 "nbformat": 4,
 "nbformat_minor": 5
}
