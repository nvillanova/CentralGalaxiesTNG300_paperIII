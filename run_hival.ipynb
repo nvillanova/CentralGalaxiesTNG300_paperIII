{
 "cells": [
  {
   "cell_type": "markdown",
   "id": "cdfa07b8-f903-4b93-95ce-22b0898f7c21",
   "metadata": {},
   "source": [
    "# Example of running HiVal on fake data\n",
    "\n",
    "This notebook provides an example to illustrate how to run `HiVal` on fake data."
   ]
  },
  {
   "cell_type": "markdown",
   "id": "4eea36c7-12b7-49ad-80bd-4eae911e9f6a",
   "metadata": {},
   "source": [
    "## Importing the libraries"
   ]
  },
  {
   "cell_type": "code",
   "execution_count": 1,
   "id": "dd0e22cc-de6e-441b-b9e7-c8d49cbdb35e",
   "metadata": {},
   "outputs": [],
   "source": [
    "import hival\n",
    "import numpy as np\n",
    "import pandas as pd\n",
    "import matplotlib.pyplot as plt\n",
    "import warnings"
   ]
  },
  {
   "cell_type": "code",
   "execution_count": 2,
   "id": "24b2aa26-12eb-4954-8e2e-9dc6a4c747d3",
   "metadata": {},
   "outputs": [],
   "source": [
    "warnings.filterwarnings(\"ignore\")"
   ]
  },
  {
   "cell_type": "markdown",
   "id": "cd09917f-9fea-41d8-bfa3-a95e737d4097",
   "metadata": {},
   "source": [
    "## Generating fake data in a 3D parameter space"
   ]
  },
  {
   "cell_type": "code",
   "execution_count": 3,
   "id": "a84aabb5-53c9-4a9d-a2c5-f94a3288cb20",
   "metadata": {},
   "outputs": [],
   "source": [
    "np.random.seed(42)\n",
    "N = 500\n",
    "\n",
    "data_Normal = np.random.normal(0, 0.75, size = (3, N)).T\n",
    "data_Uniform = np.random.uniform(2, 4, size = (3, N)).T\n",
    "data = pd.DataFrame(np.vstack((data_Normal, data_Uniform)), columns = ['x', 'y', 'z'])"
   ]
  },
  {
   "cell_type": "markdown",
   "id": "71e6c29d-e064-47a4-80d9-16a9d6119589",
   "metadata": {},
   "source": [
    "## Visualize data\n",
    "\n",
    "x and y plane"
   ]
  },
  {
   "cell_type": "code",
   "execution_count": 4,
   "id": "2ffc3aad-446f-4b05-8c60-ef3a4be638c6",
   "metadata": {},
   "outputs": [
    {
     "data": {
      "text/plain": [
       "(-2.5, 5.0)"
      ]
     },
     "execution_count": 4,
     "metadata": {},
     "output_type": "execute_result"
    },
    {
     "data": {
      "image/png": "[encoded data removed]",
      "text/plain": [
       "<Figure size 700x700 with 1 Axes>"
      ]
     },
     "metadata": {},
     "output_type": "display_data"
    }
   ],
   "source": [
    "plt.figure(figsize=(7, 7), dpi=100)\n",
    "plt.title('Fake data')\n",
    "plt.scatter(data['x'], data['y'], s=1)\n",
    "plt.xlabel('x')\n",
    "plt.ylabel('y')\n",
    "plt.xlim(-2.5, 5)\n",
    "plt.ylim(-2.5, 5)"
   ]
  },
  {
   "cell_type": "markdown",
   "id": "f7636a56-4177-4861-bbc2-173c764fa3bf",
   "metadata": {},
   "source": [
    "## Run HiVal\n",
    "\n",
    "Suppose we want to run HiVAl in the {x, y} subspace"
   ]
  },
  {
   "cell_type": "code",
   "execution_count": 5,
   "id": "c844346a-cd6a-4b32-8677-b0c7c9f8c0e8",
   "metadata": {},
   "outputs": [],
   "source": [
    "target_props = ['x', 'y']"
   ]
  },
  {
   "cell_type": "code",
   "execution_count": 6,
   "id": "98c731fa-a70b-4d4d-ae98-14db2b499f29",
   "metadata": {},
   "outputs": [
    {
     "name": "stdout",
     "output_type": "stream",
     "text": [
      "Iteration folder does not exist.\n",
      "Attention: event space exists.\n",
      "Generating target_norm.csv and stats.csv files.\n",
      "\n",
      "iteration:  1\n",
      "Number of 'paired' domains: 436\n",
      "Number of 'not paired' domains: 110\n",
      "Number of 'single' domains: 18\n",
      "Total number of particles at the end (paired + singles + not paired) =  564\n",
      "Saving iteration files.\n",
      "save_voronoi: num_classes =  564\n",
      "ignoring: FILE EXISTS! All the content will be overwritten!\n",
      "Time elapsed: 0.22258400917053223\n",
      "\n",
      "iteration:  2\n",
      "Number of 'paired' domains: 246\n",
      "Number of 'not paired' domains: 54\n",
      "Number of 'single' domains: 18\n",
      "Total number of particles at the end (paired + singles + not paired) =  318\n",
      "Saving iteration files.\n",
      "save_voronoi: num_classes =  318\n",
      "ignoring: FILE EXISTS! All the content will be overwritten!\n",
      "Time elapsed: 0.1878037452697754\n",
      "\n",
      "iteration:  3\n",
      "Number of 'paired' domains: 131\n",
      "Number of 'not paired' domains: 38\n",
      "Number of 'single' domains: 18\n",
      "Total number of particles at the end (paired + singles + not paired) =  187\n",
      "Saving iteration files.\n",
      "save_voronoi: num_classes =  187\n",
      "ignoring: FILE EXISTS! All the content will be overwritten!\n",
      "Time elapsed: 0.13577604293823242\n",
      "\n",
      "iteration:  4\n",
      "Number of 'paired' domains: 75\n",
      "Number of 'not paired' domains: 19\n",
      "Number of 'single' domains: 18\n",
      "Total number of particles at the end (paired + singles + not paired) =  112\n",
      "Saving iteration files.\n",
      "save_voronoi: num_classes =  112\n",
      "ignoring: FILE EXISTS! All the content will be overwritten!\n",
      "Time elapsed: 0.12175440788269043\n",
      "\n",
      "iteration:  5\n",
      "Number of 'paired' domains: 42\n",
      "Number of 'not paired' domains: 10\n",
      "Number of 'single' domains: 18\n",
      "Total number of particles at the end (paired + singles + not paired) =  70\n",
      "Saving iteration files.\n",
      "save_voronoi: num_classes =  70\n",
      "ignoring: FILE EXISTS! All the content will be overwritten!\n",
      "Time elapsed: 0.11338663101196289\n",
      "\n",
      "iteration:  6\n",
      "Number of 'paired' domains: 22\n",
      "Number of 'not paired' domains: 8\n",
      "Number of 'single' domains: 18\n",
      "Total number of particles at the end (paired + singles + not paired) =  48\n",
      "Saving iteration files.\n",
      "save_voronoi: num_classes =  48\n",
      "ignoring: FILE EXISTS! All the content will be overwritten!\n",
      "Time elapsed: 0.10976266860961914\n",
      "\n",
      "iteration:  7\n",
      "Number of 'paired' domains: 12\n",
      "Number of 'not paired' domains: 6\n",
      "Number of 'single' domains: 18\n",
      "Total number of particles at the end (paired + singles + not paired) =  36\n",
      "Saving iteration files.\n",
      "save_voronoi: num_classes =  36\n",
      "ignoring: FILE EXISTS! All the content will be overwritten!\n",
      "Time elapsed: 0.10875773429870605\n",
      "\n",
      "iteration:  8\n",
      "Number of 'paired' domains: 7\n",
      "Number of 'not paired' domains: 4\n",
      "Number of 'single' domains: 18\n",
      "Total number of particles at the end (paired + singles + not paired) =  29\n",
      "Saving iteration files.\n",
      "save_voronoi: num_classes =  29\n",
      "ignoring: FILE EXISTS! All the content will be overwritten!\n",
      "Time elapsed: 0.14072442054748535\n",
      "\n",
      "iteration:  9\n",
      "Number of 'paired' domains: 4\n",
      "Number of 'not paired' domains: 3\n",
      "Number of 'single' domains: 18\n",
      "Total number of particles at the end (paired + singles + not paired) =  25\n",
      "Saving iteration files.\n",
      "save_voronoi: num_classes =  25\n",
      "ignoring: FILE EXISTS! All the content will be overwritten!\n",
      "Time elapsed: 0.10570597648620605\n",
      "\n",
      "iteration:  10\n",
      "Number of 'paired' domains: 2\n",
      "Number of 'not paired' domains: 3\n",
      "Number of 'single' domains: 18\n",
      "Total number of particles at the end (paired + singles + not paired) =  23\n",
      "Saving iteration files.\n",
      "save_voronoi: num_classes =  23\n",
      "ignoring: FILE EXISTS! All the content will be overwritten!\n",
      "Time elapsed: 0.10550093650817871\n",
      "\n",
      "iteration:  11\n",
      "Number of 'paired' domains: 1\n",
      "Number of 'not paired' domains: 3\n",
      "Number of 'single' domains: 18\n",
      "Total number of particles at the end (paired + singles + not paired) =  22\n",
      "Saving iteration files.\n",
      "save_voronoi: num_classes =  22\n",
      "ignoring: FILE EXISTS! All the content will be overwritten!\n",
      "Time elapsed: 0.10663175582885742\n",
      "\n",
      "iteration:  12\n",
      "Number of 'paired' domains: 0\n",
      "Number of 'not paired' domains: 4\n",
      "Number of 'single' domains: 18\n",
      "Total number of particles at the end (paired + singles + not paired) =  22\n",
      "Saving iteration files.\n",
      "\n",
      "Additional savings.\n",
      "\n",
      "# domains:  564\n",
      "voronoi_targets/x_y/564_classes/\n",
      "Loading attributes.\n",
      "Assigning classes and dispersions.\n",
      "Saving ytrain.csv and dispersions.csv\n"
     ]
    },
    {
     "name": "stderr",
     "output_type": "stream",
     "text": [
      "2024-10-21 20:22:26.060861: I tensorflow/core/util/port.cc:153] oneDNN custom operations are on. You may see slightly different numerical results due to floating-point round-off errors from different computation orders. To turn them off, set the environment variable `TF_ENABLE_ONEDNN_OPTS=0`.\n",
      "2024-10-21 20:22:26.084584: E external/local_xla/xla/stream_executor/cuda/cuda_fft.cc:485] Unable to register cuFFT factory: Attempting to register factory for plugin cuFFT when one has already been registered\n",
      "2024-10-21 20:22:26.092438: E external/local_xla/xla/stream_executor/cuda/cuda_dnn.cc:8454] Unable to register cuDNN factory: Attempting to register factory for plugin cuDNN when one has already been registered\n",
      "2024-10-21 20:22:26.094801: E external/local_xla/xla/stream_executor/cuda/cuda_blas.cc:1452] Unable to register cuBLAS factory: Attempting to register factory for plugin cuBLAS when one has already been registered\n",
      "2024-10-21 20:22:26.100795: I tensorflow/core/platform/cpu_feature_guard.cc:210] This TensorFlow binary is optimized to use available CPU instructions in performance-critical operations.\n",
      "To enable the following instructions: AVX2 AVX_VNNI FMA, in other operations, rebuild TensorFlow with the appropriate compiler flags.\n",
      "2024-10-21 20:22:26.500841: W tensorflow/compiler/tf2tensorrt/utils/py_utils.cc:38] TF-TRT Warning: Could not find TensorRT\n",
      "WARNING: All log messages before absl::InitializeLog() is called are written to STDERR\n",
      "I0000 00:00:1729552947.101301   12932 cuda_executor.cc:1015] successful NUMA node read from SysFS had negative value (-1), but there must be at least one NUMA node, so returning NUMA node zero. See more at https://github.com/torvalds/linux/blob/v6.0/Documentation/ABI/testing/sysfs-bus-pci#L344-L355\n",
      "2024-10-21 20:22:27.323643: W tensorflow/core/common_runtime/gpu/gpu_device.cc:2343] Cannot dlopen some GPU libraries. Please make sure the missing libraries mentioned above are installed properly if you would like to use GPU. Follow the guide at https://www.tensorflow.org/install/gpu for how to download and setup the required libraries for your platform.\n",
      "Skipping registering GPU devices...\n"
     ]
    },
    {
     "name": "stdout",
     "output_type": "stream",
     "text": [
      "\n",
      "# domains:  318\n",
      "voronoi_targets/x_y/318_classes/\n",
      "Loading attributes.\n",
      "Assigning classes and dispersions.\n",
      "Saving ytrain.csv and dispersions.csv\n",
      "\n",
      "# domains:  187\n",
      "voronoi_targets/x_y/187_classes/\n",
      "Loading attributes.\n",
      "Assigning classes and dispersions.\n",
      "Saving ytrain.csv and dispersions.csv\n",
      "\n",
      "# domains:  112\n",
      "voronoi_targets/x_y/112_classes/\n",
      "Loading attributes.\n",
      "Assigning classes and dispersions.\n",
      "Saving ytrain.csv and dispersions.csv\n",
      "\n",
      "# domains:  70\n",
      "voronoi_targets/x_y/70_classes/\n",
      "Loading attributes.\n",
      "Assigning classes and dispersions.\n",
      "Saving ytrain.csv and dispersions.csv\n",
      "\n",
      "# domains:  48\n",
      "voronoi_targets/x_y/48_classes/\n",
      "Loading attributes.\n",
      "Assigning classes and dispersions.\n",
      "Saving ytrain.csv and dispersions.csv\n",
      "\n",
      "# domains:  36\n",
      "voronoi_targets/x_y/36_classes/\n",
      "Loading attributes.\n",
      "Assigning classes and dispersions.\n",
      "Saving ytrain.csv and dispersions.csv\n",
      "\n",
      "# domains:  29\n",
      "voronoi_targets/x_y/29_classes/\n",
      "Loading attributes.\n",
      "Assigning classes and dispersions.\n",
      "Saving ytrain.csv and dispersions.csv\n",
      "\n",
      "# domains:  25\n",
      "voronoi_targets/x_y/25_classes/\n",
      "Loading attributes.\n",
      "Assigning classes and dispersions.\n",
      "Saving ytrain.csv and dispersions.csv\n",
      "\n",
      "# domains:  23\n",
      "voronoi_targets/x_y/23_classes/\n",
      "Loading attributes.\n",
      "Assigning classes and dispersions.\n",
      "Saving ytrain.csv and dispersions.csv\n",
      "\n",
      "# domains:  22\n",
      "voronoi_targets/x_y/22_classes/\n",
      "Loading attributes.\n",
      "Assigning classes and dispersions.\n",
      "Saving ytrain.csv and dispersions.csv\n"
     ]
    }
   ],
   "source": [
    "hival.run_HiVAl(data, target_props)"
   ]
  },
  {
   "cell_type": "markdown",
   "id": "b30043d3-bc49-4bba-91ca-12fb0868847b",
   "metadata": {},
   "source": [
    "## Visualizing the first and last Voronoi domains\n",
    "\n",
    "Voronoi's results were generated on `voronoi_targets/x_y` folder"
   ]
  },
  {
   "cell_type": "markdown",
   "id": "4b36cdeb-37cf-449c-bc95-49a37fd3fc7f",
   "metadata": {},
   "source": [
    "![](voronoi_targets/x_y/564_classes/diagram_x_y.png)\n",
    "##### First Voronoi iteration"
   ]
  },
  {
   "cell_type": "markdown",
   "id": "2984180e-dd6b-47b5-bb60-976f3f702ba9",
   "metadata": {},
   "source": [
    "![](voronoi_targets/x_y/22_classes/diagram_x_y.png)\n",
    "##### Last Voronoi iteration"
   ]
  },
  {
   "cell_type": "code",
   "execution_count": null,
   "id": "d5a2067c-5508-4b18-83be-48992a6361eb",
   "metadata": {},
   "outputs": [],
   "source": []
  }
 ],
 "metadata": {
  "kernelspec": {
   "display_name": "Python (update_tf)",
   "language": "python",
   "name": "update_tf"
  },
  "language_info": {
   "codemirror_mode": {
    "name": "ipython",
    "version": 3
   },
   "file_extension": ".py",
   "mimetype": "text/x-python",
   "name": "python",
   "nbconvert_exporter": "python",
   "pygments_lexer": "ipython3",
   "version": "3.11.5"
  }
 },
 "nbformat": 4,
 "nbformat_minor": 5
}
